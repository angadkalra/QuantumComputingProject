{
 "cells": [
  {
   "cell_type": "code",
   "execution_count": 1,
   "metadata": {},
   "outputs": [],
   "source": [
    "import sys, os\n",
    "import numpy as np\n",
    "import pandas as pd\n",
    "import matplotlib.pyplot as plt\n",
    "\n",
    "# DWave Credentials\n",
    "dwave_solver = \"DW_2000Q_2_1\"\n",
    "api_key = 'DEV-3142f58be13a0aacd44657b15b8fb9832ba3bdac'\n",
    "\n",
    "from dwave.system.samplers import DWaveSampler\n",
    "from dwave.system.composites import EmbeddingComposite\n",
    "\n",
    "import dwave_networkx as dnx\n",
    "\n",
    "### Use NetworkX graphic package to create a signed network\n",
    "import networkx as nx\n",
    "\n",
    "# Select a D-Wave system and handle mapping from problem graph to sampler graph\n",
    "sampler = EmbeddingComposite(DWaveSampler(solver=dwave_solver, token=api_key))"
   ]
  },
  {
   "cell_type": "code",
   "execution_count": 5,
   "metadata": {},
   "outputs": [],
   "source": [
    "# Import Asset Class data\n",
    "\n",
    "dataset = 'sp100' # values: 'asset_class','ftse','sectors','sp100'\n",
    "\n",
    "corr_tensor = np.load('%s/%s_corr.npy' % (dataset, dataset))\n",
    "dates = np.load('%s/%s_dates.npy' % (dataset, dataset))\n",
    "nodes = np.load('%s/%s_nodes.npy' % (dataset, dataset))\n",
    "nodes_descr = np.load('%s/%s_nodes_descr.npy' % (dataset, dataset))"
   ]
  },
  {
   "cell_type": "code",
   "execution_count": 6,
   "metadata": {},
   "outputs": [],
   "source": [
    "# Helper Functions\n",
    "\n",
    "def make_graph(corr_mat, node_labels, graph_type):\n",
    "\n",
    "    G = nx.Graph()\n",
    "    G.add_nodes_from(node_labels)\n",
    "    dim = corr_mat.shape[0]\n",
    "\n",
    "    if not dim == len(node_labels):\n",
    "        raise ValueError('number node labels not = corr matrix dimensions')\n",
    "\n",
    "    if graph_type=='signed':\n",
    "        for i in range(dim):\n",
    "            for j in range(i+1, dim):\n",
    "                if corr_mat[i,j] < 0:\n",
    "                    G.add_edge(node_labels[i], node_labels[j], sign=-1)\n",
    "                elif corr_mat[i,j] > 0:\n",
    "                    G.add_edge(node_labels[i], node_labels[j], sign=1)\n",
    "    \n",
    "    if graph_type=='corr':\n",
    "        for i in range(dim):\n",
    "            for j in range(i+1, dim):\n",
    "                if not corr_mat[i,j] == 0:\n",
    "                    G.add_edge(node_labels[i], node_labels[j])\n",
    "    \n",
    "    if graph_type=='uncorr':\n",
    "        for i in range(dim):\n",
    "            for j in range(i+1, dim):\n",
    "                if corr_mat[i,j] == 0:\n",
    "                    G.add_edge(node_labels[i], node_labels[j])\n",
    "    \n",
    "    density = (2*G.number_of_edges())/(G.number_of_nodes()*(G.number_of_nodes() - 1))\n",
    "                \n",
    "    return G, density"
   ]
  },
  {
   "cell_type": "code",
   "execution_count": 7,
   "metadata": {},
   "outputs": [],
   "source": [
    "# Test to see if DW comp. is working\n",
    "corr_mat = corr_tensor[34, :, :]\n",
    "        \n",
    "corr_mat[(corr_mat > -1*0.8) & (corr_mat < 0.8)] = 0\n",
    "G, density = make_graph(corr_mat, nodes, 'signed')\n",
    "\n",
    "imbalance, bicoloring = dnx.structural_imbalance(G, sampler)\n",
    "frustration_score = len(list(imbalance.keys()))/G.number_of_edges()"
   ]
  },
  {
   "cell_type": "code",
   "execution_count": 11,
   "metadata": {},
   "outputs": [],
   "source": [
    "# Plot graph density for each threshold. \n",
    "thresh_array = []\n",
    "density_distr = []\n",
    "for i in np.arange(0.1, 0.9, 0.1):\n",
    "    density_array = []\n",
    "    for j in range(1,26):\n",
    "        corr_mat = corr_tensor[j*5, :, :]\n",
    "        corr_mat[(corr_mat > -1*i) & (corr_mat < i)] = 0\n",
    "        G, density = make_graph(corr_mat, nodes, 'signed')\n",
    "        \n",
    "        density_array.append(density)\n",
    "    \n",
    "    density_distr.append(density_array)"
   ]
  },
  {
   "cell_type": "code",
   "execution_count": null,
   "metadata": {
    "scrolled": true
   },
   "outputs": [
    {
     "name": "stdout",
     "output_type": "stream",
     "text": [
      "iteration: i = 0.500000, j = 10\n",
      "<class 'ValueError'>\n",
      "i: 0.500000, j: 11\n",
      "iteration: i = 0.500000, j = 21\n",
      "iteration: i = 0.600000, j = 6\n"
     ]
    }
   ],
   "source": [
    "# Create graph for each month and calculate frustration. \n",
    "\n",
    "frustration_array = []\n",
    "date_array = []\n",
    "density_array = []\n",
    "threshold_array = []\n",
    "\n",
    "count = 0\n",
    "for i in np.arange(0.5, 0.9, 0.1):\n",
    "    for j in range(1, 26):\n",
    "        corr_mat = corr_tensor[j*5, :, :]\n",
    "        corr_mat[(corr_mat > -1*i) & (corr_mat < i)] = 0\n",
    "        G, density = make_graph(corr_mat, nodes, 'signed')\n",
    "\n",
    "        try:\n",
    "            imbalance, bicoloring = dnx.structural_imbalance(G, sampler)\n",
    "            frustration_score = len(list(imbalance.keys()))/G.number_of_edges()\n",
    "            count += 1\n",
    "            \n",
    "            if count % 10 == 0:\n",
    "                print(\"iteration: i = %f, j = %d\" % (i,j))\n",
    "            \n",
    "            threshold_array.append(i)\n",
    "            frustration_array.append(frustration_score)\n",
    "            density_array.append(density)\n",
    "            date_array.append(dates[j*5])\n",
    "        except:\n",
    "            print(sys.exc_info()[0])\n",
    "            print(\"i: %f, j: %d\" % (i,j))"
   ]
  },
  {
   "cell_type": "code",
   "execution_count": 72,
   "metadata": {},
   "outputs": [],
   "source": [
    "# Create Pandas DataFrame for sp100 results\n",
    "sp100_df = pd.DataFrame(data={\"date\": date_array, \"threshold\": threshold_array, \"density\": density_array,\n",
    "                             \"frustration_score\": frustration_array, \"service_time\": service_time_array})\n",
    "sp100_df.to_csv(\"sp100_res.csv\")"
   ]
  },
  {
   "cell_type": "code",
   "execution_count": 77,
   "metadata": {},
   "outputs": [
    {
     "data": {
      "text/plain": [
       "Text(0.5, 1.0, 'Frustration Score vs Time')"
      ]
     },
     "execution_count": 77,
     "metadata": {},
     "output_type": "execute_result"
    },
    {
     "data": {
      "image/png": "[encoded data removed]",
      "text/plain": [
       "<Figure size 432x288 with 1 Axes>"
      ]
     },
     "metadata": {
      "needs_background": "light"
     },
     "output_type": "display_data"
    }
   ],
   "source": [
    "# Plot frustration vs time for each threshold.\n",
    "plt.figure(2)\n",
    "plt.plot(frustration_array)\n",
    "plt.title(\"Frustration Score vs Time\")"
   ]
  },
  {
   "cell_type": "code",
   "execution_count": null,
   "metadata": {},
   "outputs": [],
   "source": [
    "# Plot frustration score vs density for each threshold. \n",
    "plt.figure(3)\n",
    "plt.scatter(density_array, frustration_array)\n",
    "plt.title(\"Frustration Score vs Graph Density\")"
   ]
  }
 ],
 "metadata": {
  "kernelspec": {
   "display_name": "dwave_ocean",
   "language": "python",
   "name": "dwave_ocean"
  },
  "language_info": {
   "codemirror_mode": {
    "name": "ipython",
    "version": 3
   },
   "file_extension": ".py",
   "mimetype": "text/x-python",
   "name": "python",
   "nbconvert_exporter": "python",
   "pygments_lexer": "ipython3",
   "version": "3.6.6"
  }
 },
 "nbformat": 4,
 "nbformat_minor": 2
}
