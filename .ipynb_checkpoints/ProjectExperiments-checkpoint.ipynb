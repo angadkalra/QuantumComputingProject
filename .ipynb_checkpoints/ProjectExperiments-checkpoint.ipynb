{
 "cells": [
  {
   "cell_type": "code",
   "execution_count": 4,
   "metadata": {},
   "outputs": [],
   "source": [
    "# DWave Credentials\n",
    "dwave_solver = \"DW_2000Q_2_1\"\n",
    "api_key = 'DEV-3142f58be13a0aacd44657b15b8fb9832ba3bdac'"
   ]
  },
  {
   "cell_type": "code",
   "execution_count": 9,
   "metadata": {},
   "outputs": [],
   "source": [
    "# Import correlation data\n",
    "import scipy.io as sio\n",
    "\n",
    "P_array = sio.loadmat('P_mat.mat').get('P_mat')\n",
    "A_array = sio.loadmat('A_mat.mat').get('A_mat')\n",
    "S_array = sio.loadmat('S_mat.mat').get('S_mat')"
   ]
  },
  {
   "cell_type": "code",
   "execution_count": 33,
   "metadata": {},
   "outputs": [],
   "source": [
    "# Import graph node labels\n",
    "node_labels = []\n",
    "with open('CryptoSymbols.csv') as f:\n",
    "    for line in f.readlines():\n",
    "        line = line.rstrip()\n",
    "        node_labels.append(line)"
   ]
  },
  {
   "cell_type": "code",
   "execution_count": 26,
   "metadata": {},
   "outputs": [
    {
     "data": {
      "text/plain": [
       "(27, 27)"
      ]
     },
     "execution_count": 26,
     "metadata": {},
     "output_type": "execute_result"
    }
   ],
   "source": [
    "graph_250 = S_array[250,:,:]\n",
    "graph_250.shape"
   ]
  },
  {
   "cell_type": "code",
   "execution_count": 29,
   "metadata": {},
   "outputs": [],
   "source": [
    "# Change correlation values to 0,+1,-1\n",
    "for i in range(27):\n",
    "    for j in range(27):\n",
    "        if graph_250[i,j] < 0:\n",
    "            graph_250[i,j] = int(1)\n",
    "        elif graph_250[i,j] > 0:\n",
    "            graph_250[i,j] = int(-1)"
   ]
  },
  {
   "cell_type": "code",
   "execution_count": 38,
   "metadata": {},
   "outputs": [],
   "source": [
    "### Use NetworkX graphic package to create a signed network\n",
    "import networkx as nx\n",
    "\n",
    "G = nx.from_numpy_matrix(graph_250)"
   ]
  },
  {
   "cell_type": "code",
   "execution_count": 39,
   "metadata": {},
   "outputs": [
    {
     "data": {
      "text/plain": [
       "27"
      ]
     },
     "execution_count": 39,
     "metadata": {},
     "output_type": "execute_result"
    }
   ],
   "source": [
    "G.number_of_nodes()"
   ]
  },
  {
   "cell_type": "code",
   "execution_count": 5,
   "metadata": {},
   "outputs": [],
   "source": [
    "# Select a D-Wave system and handle mapping from problem graph to sampler graph\n",
    "from dwave.system.samplers import DWaveSampler\n",
    "from dwave.system.composites import EmbeddingComposite\n",
    "\n",
    "sampler = EmbeddingComposite(DWaveSampler(solver=dwave_solver, token=api_key))"
   ]
  },
  {
   "cell_type": "code",
   "execution_count": 6,
   "metadata": {},
   "outputs": [
    {
     "name": "stdout",
     "output_type": "stream",
     "text": [
      "Yellow set:  ['Alice', 'Bob', 'Wally']\n",
      "Blue set:  ['Eve']\n",
      "\n",
      "Frustrated relationships:  [('Alice', 'Wally')]\n"
     ]
    }
   ],
   "source": [
    "# Return a good partition (minimal structural imbalance) and its frustrated edges  \n",
    "import dwave_networkx as dnx\n",
    "imbalance, bicoloring = dnx.structural_imbalance(G, sampler)\n",
    "\n",
    "# Mark the returned frustrated edges and node set (color) on the graph \n",
    "for edge in G.edges:\n",
    "    G.edges[edge]['frustrated'] = edge in imbalance\n",
    "for node in G.nodes:\n",
    "    G.nodes[node]['color'] = bicoloring[node]\n",
    "\n",
    "# Print the relationships for the returned partition\n",
    "print('Yellow set: ', [person for (person, color) in bicoloring.items() if (color == 0)])\n",
    "print('Blue set: ', [person for (person, color) in bicoloring.items() if (color == 1)])\n",
    "print('\\nFrustrated relationships: ', list(imbalance.keys()))"
   ]
  },
  {
   "cell_type": "code",
   "execution_count": null,
   "metadata": {},
   "outputs": [],
   "source": []
  }
 ],
 "metadata": {
  "kernelspec": {
   "display_name": "ocean_tutorial",
   "language": "python",
   "name": "ocean_tutorial"
  },
  "language_info": {
   "codemirror_mode": {
    "name": "ipython",
    "version": 3
   },
   "file_extension": ".py",
   "mimetype": "text/x-python",
   "name": "python",
   "nbconvert_exporter": "python",
   "pygments_lexer": "ipython3",
   "version": "3.6.6"
  },
  "varInspector": {
   "cols": {
    "lenName": 16,
    "lenType": 16,
    "lenVar": 40
   },
   "kernels_config": {
    "python": {
     "delete_cmd_postfix": "",
     "delete_cmd_prefix": "del ",
     "library": "var_list.py",
     "varRefreshCmd": "print(var_dic_list())"
    },
    "r": {
     "delete_cmd_postfix": ") ",
     "delete_cmd_prefix": "rm(",
     "library": "var_list.r",
     "varRefreshCmd": "cat(var_dic_list()) "
    }
   },
   "types_to_exclude": [
    "module",
    "function",
    "builtin_function_or_method",
    "instance",
    "_Feature"
   ],
   "window_display": false
  }
 },
 "nbformat": 4,
 "nbformat_minor": 2
}
