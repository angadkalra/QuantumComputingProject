{
 "cells": [
  {
   "cell_type": "code",
   "execution_count": 18,
   "metadata": {},
   "outputs": [],
   "source": [
    "# DWave Credentials\n",
    "dwave_solver = \"DW_2000Q_2_1\"\n",
    "api_key = 'DEV-3142f58be13a0aacd44657b15b8fb9832ba3bdac'\n",
    "\n",
    "from dwave.system.samplers import DWaveSampler\n",
    "from dwave.system.composites import EmbeddingComposite\n",
    "\n",
    "import dwave_networkx as dnx\n",
    "\n",
    "### Use NetworkX graphic package to create a signed network\n",
    "import networkx as nx\n",
    "\n",
    "# Select a D-Wave system and handle mapping from problem graph to sampler graph\n",
    "sampler = EmbeddingComposite(DWaveSampler(solver=dwave_solver, token=api_key))"
   ]
  },
  {
   "cell_type": "code",
   "execution_count": null,
   "metadata": {},
   "outputs": [],
   "source": [
    "# Import graph node labels\n",
    "node_labels = []\n",
    "with open('CryptoSymbols.csv') as f:\n",
    "    for line in f.readlines():\n",
    "        line = line.rstrip()\n",
    "        node_labels.append(line)"
   ]
  },
  {
   "cell_type": "code",
   "execution_count": 19,
   "metadata": {},
   "outputs": [],
   "source": [
    "# Import correlation data\n",
    "import scipy.io as sio\n",
    "\n",
    "P_array = sio.loadmat('P_mat.mat').get('P_mat')\n",
    "A_array = sio.loadmat('A_mat.mat').get('A_mat')\n",
    "S_array = sio.loadmat('S_mat.mat').get('S_mat')"
   ]
  },
  {
   "cell_type": "code",
   "execution_count": 20,
   "metadata": {},
   "outputs": [],
   "source": [
    "# Import graph node labels\n",
    "node_labels = []\n",
    "with open('CryptoSymbols.csv') as f:\n",
    "    for line in f.readlines():\n",
    "        line = line.rstrip()\n",
    "        node_labels.append(line)"
   ]
  },
  {
   "cell_type": "code",
   "execution_count": 21,
   "metadata": {},
   "outputs": [
    {
     "data": {
      "text/plain": [
       "(27, 27)"
      ]
     },
     "execution_count": 21,
     "metadata": {},
     "output_type": "execute_result"
    }
   ],
   "source": [
    "# Pick a test graph\n",
    "graph_250 = S_array[500,:,:]\n",
    "graph_250.shape"
   ]
  },
  {
   "cell_type": "code",
   "execution_count": 22,
   "metadata": {},
   "outputs": [],
   "source": [
    "G = nx.Graph()\n",
    "G.add_nodes_from(node_labels)"
   ]
  },
  {
   "cell_type": "code",
   "execution_count": 23,
   "metadata": {},
   "outputs": [],
   "source": [
    "# Add weighted edges to graph\n",
    "for i in range(27):\n",
    "    for j in range(i+1, 27):\n",
    "        if graph_250[i,j] < 0:\n",
    "            G.add_edge(node_labels[i], node_labels[j], sign=-1)\n",
    "        elif graph_250[i,j] > 0:\n",
    "            G.add_edge(node_labels[i], node_labels[j], sign=1)"
   ]
  },
  {
   "cell_type": "code",
   "execution_count": 24,
   "metadata": {},
   "outputs": [
    {
     "name": "stdout",
     "output_type": "stream",
     "text": [
      "0.2022792022792023\n",
      "0.20797720797720798\n",
      "0.1794871794871795\n",
      "0.1908831908831909\n",
      "0.1794871794871795\n"
     ]
    }
   ],
   "source": [
    "# Return a good partition (minimal structural imbalance) and its frustrated edges  \n",
    "\n",
    "for i in range(3):\n",
    "    imbalance, bicoloring = dnx.structural_imbalance(G, sampler)\n",
    "    print(len(list(imbalance.keys()))/G.number_of_edges())\n",
    "\n",
    "# Mark the returned frustrated edges and node set (color) on the graph \n",
    "# for edge in G.edges:\n",
    "#     G.edges[edge]['frustrated'] = edge in imbalance\n",
    "# for node in G.nodes:\n",
    "#     G.nodes[node]['color'] = bicoloring[node]"
   ]
  },
  {
   "cell_type": "code",
   "execution_count": null,
   "metadata": {},
   "outputs": [],
   "source": []
  }
 ],
 "metadata": {
  "kernelspec": {
   "display_name": "dwave_ocean",
   "language": "python",
   "name": "dwave_ocean"
  },
  "language_info": {
   "codemirror_mode": {
    "name": "ipython",
    "version": 3
   },
   "file_extension": ".py",
   "mimetype": "text/x-python",
   "name": "python",
   "nbconvert_exporter": "python",
   "pygments_lexer": "ipython3",
   "version": "3.5.2"
  },
  "varInspector": {
   "cols": {
    "lenName": 16,
    "lenType": 16,
    "lenVar": 40
   },
   "kernels_config": {
    "python": {
     "delete_cmd_postfix": "",
     "delete_cmd_prefix": "del ",
     "library": "var_list.py",
     "varRefreshCmd": "print(var_dic_list())"
    },
    "r": {
     "delete_cmd_postfix": ") ",
     "delete_cmd_prefix": "rm(",
     "library": "var_list.r",
     "varRefreshCmd": "cat(var_dic_list()) "
    }
   },
   "types_to_exclude": [
    "module",
    "function",
    "builtin_function_or_method",
    "instance",
    "_Feature"
   ],
   "window_display": false
  }
 },
 "nbformat": 4,
 "nbformat_minor": 2
}
