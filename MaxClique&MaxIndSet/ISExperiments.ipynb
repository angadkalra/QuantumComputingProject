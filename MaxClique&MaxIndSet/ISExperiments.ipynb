{
 "cells": [
  {
   "cell_type": "code",
   "execution_count": 15,
   "metadata": {},
   "outputs": [],
   "source": [
    "import sys, os\n",
    "import numpy as np\n",
    "import pandas as pd\n",
    "import matplotlib.pyplot as plt\n",
    "\n",
    "# DWave Credentials\n",
    "dwave_solver = \"DW_2000Q_2_1\"\n",
    "api_key = 'DEV-3142f58be13a0aacd44657b15b8fb9832ba3bdac'\n",
    "\n",
    "from dwave.system.samplers import DWaveSampler\n",
    "from dwave.system.composites import EmbeddingComposite\n",
    "\n",
    "import dwave_networkx as dnx\n",
    "\n",
    "### Use NetworkX graphic package to create a signed network\n",
    "import networkx as nx\n",
    "\n",
    "# Select a D-Wave system and handle mapping from problem graph to sampler graph\n",
    "sampler = EmbeddingComposite(DWaveSampler(solver=dwave_solver, token=api_key))"
   ]
  },
  {
   "cell_type": "code",
   "execution_count": 16,
   "metadata": {
    "code_folding": [
     2
    ]
   },
   "outputs": [],
   "source": [
    "# Helper Functions\n",
    "\n",
    "def make_graph(corr_mat, node_labels, graph_type):\n",
    "\n",
    "    G = nx.Graph()\n",
    "    G.add_nodes_from(node_labels)\n",
    "    dim = corr_mat.shape[0]\n",
    "\n",
    "    if not dim == len(node_labels):\n",
    "        raise ValueError('number node labels not = corr matrix dimensions')\n",
    "\n",
    "    if graph_type=='signed':\n",
    "        for i in range(dim):\n",
    "            for j in range(i+1, dim):\n",
    "                if corr_mat[i,j] < 0:\n",
    "                    G.add_edge(node_labels[i], node_labels[j], sign=-1)\n",
    "                elif corr_mat[i,j] > 0:\n",
    "                    G.add_edge(node_labels[i], node_labels[j], sign=1)\n",
    "    \n",
    "    if graph_type=='corr':\n",
    "        for i in range(dim):\n",
    "            for j in range(i+1, dim):\n",
    "                if corr_mat[i,j] != 0.0000:\n",
    "                    G.add_edge(node_labels[i], node_labels[j])\n",
    "    \n",
    "    if graph_type=='uncorr':\n",
    "        for i in range(dim):\n",
    "            for j in range(i+1, dim):\n",
    "                if corr_mat[i,j] == 0.000:\n",
    "                    G.add_edge(node_labels[i], node_labels[j])\n",
    "    \n",
    "    density = (2*G.number_of_edges())/(G.number_of_nodes()*(G.number_of_nodes() - 1))\n",
    "                \n",
    "    return G, density"
   ]
  },
  {
   "cell_type": "code",
   "execution_count": 33,
   "metadata": {},
   "outputs": [],
   "source": [
    "# Import data\n",
    "\n",
    "dataset = 'asset_class' # values: 'asset_class','ftse','sectors','sp100'\n",
    "\n",
    "corr_tensor = np.load('../Data/%s/%s_corr.npy' % (dataset, dataset))\n",
    "dates = np.load('../Data/%s/%s_dates.npy' % (dataset, dataset))\n",
    "nodes = np.load('../Data/%s/%s_nodes.npy' % (dataset, dataset))\n",
    "nodes_descr = np.load('../Data/%s/%s_nodes_descr.npy' % (dataset, dataset))\n",
    "\n",
    "num_examples = corr_tensor.shape[0]\n",
    "dim = corr_tensor.shape[1]"
   ]
  },
  {
   "cell_type": "code",
   "execution_count": 34,
   "metadata": {},
   "outputs": [
    {
     "name": "stdout",
     "output_type": "stream",
     "text": [
      "num examples: 120, matrix dim: 19\n"
     ]
    }
   ],
   "source": [
    "print(\"num examples: %d, matrix dim: %d\" % (num_examples, dim))"
   ]
  },
  {
   "cell_type": "code",
   "execution_count": 22,
   "metadata": {},
   "outputs": [],
   "source": [
    "# Plot graph density for each threshold. \n",
    "thresh_array = []\n",
    "density_distr = []\n",
    "\n",
    "for i in np.arange(0.1, 1, 0.1):\n",
    "    density_array = []\n",
    "    for j in range(1, int(num_examples/3)):\n",
    "        corr_mat = corr_tensor[j*3, :, :].copy()\n",
    "        corr_mat[(corr_mat > -1*i) & (corr_mat < i)] = 0\n",
    "        G, density = make_graph(corr_mat, nodes, 'corr')\n",
    "        \n",
    "        density_array.append(density)\n",
    "    \n",
    "    density_distr.append(density_array)"
   ]
  },
  {
   "cell_type": "code",
   "execution_count": 23,
   "metadata": {},
   "outputs": [
    {
     "data": {
      "image/png": "[encoded data removed]",
      "text/plain": [
       "<Figure size 432x288 with 1 Axes>"
      ]
     },
     "metadata": {
      "needs_background": "light"
     },
     "output_type": "display_data"
    }
   ],
   "source": [
    "plt.boxplot(density_distr)\n",
    "plt.ylabel(\"Graph Density\")\n",
    "plt.xlabel(\"Correlation Threshold (10^-1)\")\n",
    "plt.title(\"%s Density vs Threshold\" % (dataset))\n",
    "plt.show()"
   ]
  },
  {
   "cell_type": "code",
   "execution_count": 40,
   "metadata": {},
   "outputs": [],
   "source": [
    "# Test to see if DW comp. is working\n",
    "corr_mat = corr_tensor[int(num_examples/2), :, :]\n",
    "        \n",
    "corr_mat[(corr_mat > -1*0.7) & (corr_mat < 0.7)] = 0\n",
    "G, density = make_graph(corr_mat, nodes, 'corr')"
   ]
  },
  {
   "cell_type": "code",
   "execution_count": 41,
   "metadata": {},
   "outputs": [
    {
     "data": {
      "text/plain": [
       "0.13450292397660818"
      ]
     },
     "execution_count": 41,
     "metadata": {},
     "output_type": "execute_result"
    }
   ],
   "source": [
    "density"
   ]
  },
  {
   "cell_type": "code",
   "execution_count": 42,
   "metadata": {},
   "outputs": [],
   "source": [
    "max_ind_set = dnx.maximum_independent_set(G, sampler)\n",
    "valid_soln = dnx.is_independent_set(G, max_ind_set)"
   ]
  },
  {
   "cell_type": "code",
   "execution_count": 43,
   "metadata": {},
   "outputs": [],
   "source": [
    "assert len(max_ind_set) > 0"
   ]
  },
  {
   "cell_type": "code",
   "execution_count": 45,
   "metadata": {},
   "outputs": [
    {
     "data": {
      "text/plain": [
       "True"
      ]
     },
     "execution_count": 45,
     "metadata": {},
     "output_type": "execute_result"
    }
   ],
   "source": [
    "valid_soln"
   ]
  },
  {
   "cell_type": "code",
   "execution_count": 46,
   "metadata": {},
   "outputs": [
    {
     "data": {
      "text/plain": [
       "11"
      ]
     },
     "execution_count": 46,
     "metadata": {},
     "output_type": "execute_result"
    }
   ],
   "source": [
    "len(max_ind_set)"
   ]
  },
  {
   "cell_type": "code",
   "execution_count": 48,
   "metadata": {},
   "outputs": [
    {
     "name": "stdout",
     "output_type": "stream",
     "text": [
      "count: 10\n",
      "count: 20\n",
      "count: 30\n",
      "count: 40\n",
      "count: 50\n",
      "count: 60\n",
      "count: 70\n",
      "count: 80\n",
      "count: 90\n",
      "count: 100\n",
      "count: 110\n"
     ]
    }
   ],
   "source": [
    "# Create graph for each month and calculate max clique. \n",
    "\n",
    "indset_array = []\n",
    "valid_soln_array = []\n",
    "set_size_array = []\n",
    "date_array = []\n",
    "density_array = []\n",
    "threshold_array = []\n",
    "\n",
    "count = 0\n",
    "for i in np.arange(0.1, 0.6, 0.1):\n",
    "    for j in range(1, int(num_examples/5)):\n",
    "        \n",
    "        corr_mat = corr_tensor[j*5, :, :].copy()\n",
    "        corr_mat[(corr_mat > -1*i) & (corr_mat < i)] = 0\n",
    "        \n",
    "        G, density = make_graph(corr_mat, nodes, 'corr')\n",
    "        \n",
    "        count += 1\n",
    "        if count % 10 == 0: print(\"count: %d\" % (count))\n",
    "        \n",
    "        try:\n",
    "            opt_soln = dnx.maximum_independent_set(G, sampler)\n",
    "            soln_size = len(opt_soln)\n",
    "            valid_soln = dnx.is_independent_set(G, opt_soln)\n",
    "            \n",
    "            for k in range(3):\n",
    "                max_ind_set = dnx.maximum_independent_set(G, sampler)\n",
    "                set_size = len(max_ind_set)\n",
    "                valid_set = dnx.is_independent_set(G, max_ind_set)\n",
    "                \n",
    "                if valid_set and set_size > soln_size:\n",
    "                    opt_soln = max_ind_set\n",
    "                    soln_size = set_size\n",
    "                    valid_soln = True\n",
    "                \n",
    "        except Exception as err:\n",
    "            print(err)\n",
    "            print(\"No embedding found for threshold %f and matrix %d\" % (i, j*5))\n",
    "        else:\n",
    "            indset_array.append(opt_soln)\n",
    "            valid_soln_array.append(valid_soln)\n",
    "            set_size_array.append(soln_size)\n",
    "            \n",
    "            threshold_array.append(i)\n",
    "            density_array.append(density)\n",
    "            date_array.append(dates[j*5])"
   ]
  },
  {
   "cell_type": "code",
   "execution_count": 50,
   "metadata": {},
   "outputs": [],
   "source": [
    "assert len(indset_array) == len(date_array) == len(density_array) == len(threshold_array) == len(set_size_array)"
   ]
  },
  {
   "cell_type": "code",
   "execution_count": 52,
   "metadata": {},
   "outputs": [
    {
     "data": {
      "text/plain": [
       "115"
      ]
     },
     "execution_count": 52,
     "metadata": {},
     "output_type": "execute_result"
    }
   ],
   "source": [
    "len(indset_array)"
   ]
  },
  {
   "cell_type": "code",
   "execution_count": 53,
   "metadata": {},
   "outputs": [
    {
     "ename": "NameError",
     "evalue": "name 'clique_array' is not defined",
     "output_type": "error",
     "traceback": [
      "\u001b[0;31m---------------------------------------------------------------------------\u001b[0m",
      "\u001b[0;31mNameError\u001b[0m                                 Traceback (most recent call last)",
      "\u001b[0;32m<ipython-input-53-16d1ae12b85d>\u001b[0m in \u001b[0;36m<module>\u001b[0;34m\u001b[0m\n\u001b[1;32m      1\u001b[0m \u001b[0;31m# Create Pandas DataFrame for quantum results\u001b[0m\u001b[0;34m\u001b[0m\u001b[0;34m\u001b[0m\u001b[0;34m\u001b[0m\u001b[0m\n\u001b[1;32m      2\u001b[0m pd.DataFrame(data={\"date\": date_array, \"threshold\": threshold_array, \"density\": density_array,\n\u001b[0;32m----> 3\u001b[0;31m                 \u001b[0;34m\"max_clique\"\u001b[0m\u001b[0;34m:\u001b[0m \u001b[0mclique_array\u001b[0m\u001b[0;34m,\u001b[0m \u001b[0;34m\"clique_size\"\u001b[0m\u001b[0;34m:\u001b[0m \u001b[0mclique_size_array\u001b[0m\u001b[0;34m,\u001b[0m\u001b[0;34m\u001b[0m\u001b[0;34m\u001b[0m\u001b[0m\n\u001b[0m\u001b[1;32m      4\u001b[0m                 \"valid_clique\": valid_clique_array}).to_csv(\"indset_quant_%s_res.csv\" % (dataset))\n",
      "\u001b[0;31mNameError\u001b[0m: name 'clique_array' is not defined"
     ]
    }
   ],
   "source": [
    "# Create Pandas DataFrame for quantum results\n",
    "pd.DataFrame(data={\"date\": date_array, \"threshold\": threshold_array, \"density\": density_array,\n",
    "                \"max_ind_set\": indset_array, \"set_size\": set_size_array, \n",
    "                \"valid_soln\": valid_soln_array}).to_csv(\"indset_quant_%s_res.csv\" % (dataset))"
   ]
  },
  {
   "cell_type": "code",
   "execution_count": 93,
   "metadata": {},
   "outputs": [],
   "source": [
    "# Run classical max clique algm on the matrices that ran successfully above\n",
    "from networkx.algorithms.approximation.clique import max_clique as class_max_clique\n",
    "\n",
    "clique_array = []\n",
    "valid_clique_array = []\n",
    "clique_size_array = []\n",
    "density_array = []\n",
    "\n",
    "for i in range(len(threshold_array)):\n",
    "    \n",
    "    # get threshold and matrix idx \n",
    "    thresh = threshold_array[i]\n",
    "    idx = dates.tolist().index(date_array[i])\n",
    "    \n",
    "    corr_mat = corr_tensor[idx, :, :].copy()\n",
    "    corr_mat[(corr_mat > -1*thresh) & (corr_mat < thresh)] = 0\n",
    "\n",
    "    G, density = make_graph(corr_mat, nodes, 'corr')\n",
    "\n",
    "    try:\n",
    "        max_clique = class_max_clique(G)\n",
    "        valid_clique = dnx.is_clique(G, max_clique)\n",
    "    except Exception as err:\n",
    "        print(err)\n",
    "        print(\"Error on matrix %d with threshold %f\" % (j*5, i))\n",
    "    else:\n",
    "        \n",
    "        clique_array.append(max_clique)\n",
    "        valid_clique_array.append(valid_clique)\n",
    "        clique_size_array.append(len(max_clique))\n",
    "\n",
    "        density_array.append(density)\n"
   ]
  },
  {
   "cell_type": "code",
   "execution_count": 94,
   "metadata": {},
   "outputs": [],
   "source": [
    "assert len(clique_array) == len(date_array) == len(density_array) == len(threshold_array) == len(clique_size_array)"
   ]
  },
  {
   "cell_type": "code",
   "execution_count": 95,
   "metadata": {},
   "outputs": [
    {
     "data": {
      "text/plain": [
       "161"
      ]
     },
     "execution_count": 95,
     "metadata": {},
     "output_type": "execute_result"
    }
   ],
   "source": [
    "len(clique_array)"
   ]
  },
  {
   "cell_type": "code",
   "execution_count": 96,
   "metadata": {},
   "outputs": [],
   "source": [
    "# Create Pandas DataFrame for class results\n",
    "pd.DataFrame(data={\"date\": date_array, \"threshold\": threshold_array, \"density\": density_array,\n",
    "                \"max_clique\": clique_array, \"clique_size\": clique_size_array, \n",
    "                \"valid_clique\": valid_clique_array}).to_csv(\"maxclique_class_%s_res.csv\" % (dataset))"
   ]
  },
  {
   "cell_type": "code",
   "execution_count": null,
   "metadata": {},
   "outputs": [],
   "source": []
  }
 ],
 "metadata": {
  "kernelspec": {
   "display_name": "dwave_ocean",
   "language": "python",
   "name": "dwave_ocean"
  },
  "language_info": {
   "codemirror_mode": {
    "name": "ipython",
    "version": 3
   },
   "file_extension": ".py",
   "mimetype": "text/x-python",
   "name": "python",
   "nbconvert_exporter": "python",
   "pygments_lexer": "ipython3",
   "version": "3.6.6"
  }
 },
 "nbformat": 4,
 "nbformat_minor": 2
}
