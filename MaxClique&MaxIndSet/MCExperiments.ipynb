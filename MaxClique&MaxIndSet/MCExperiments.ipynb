{
 "cells": [
  {
   "cell_type": "code",
   "execution_count": 1,
   "metadata": {},
   "outputs": [],
   "source": [
    "import sys, os\n",
    "import numpy as np\n",
    "import pandas as pd\n",
    "import matplotlib.pyplot as plt\n",
    "\n",
    "# DWave Credentials\n",
    "dwave_solver = os.getenv('DWAVE_API_SOLVER')\n",
    "api_key = os.getenv('DWAVE_API_TOKEN')\n",
    "\n",
    "from dwave.system.samplers import DWaveSampler\n",
    "from dwave.system.composites import EmbeddingComposite\n",
    "\n",
    "import dwave_networkx as dnx\n",
    "\n",
    "### Use NetworkX graphic package to create a signed network\n",
    "import networkx as nx\n",
    "\n",
    "# Select a D-Wave system and handle mapping from problem graph to sampler graph\n",
    "sampler = EmbeddingComposite(DWaveSampler(solver=dwave_solver, token=api_key))"
   ]
  },
  {
   "cell_type": "code",
   "execution_count": 5,
   "metadata": {
    "code_folding": [
     2,
     35,
     40
    ]
   },
   "outputs": [],
   "source": [
    "# Helper Functions\n",
    "\n",
    "def make_graph(corr_mat, node_labels, graph_type):\n",
    "\n",
    "    G = nx.Graph()\n",
    "    G.add_nodes_from(node_labels)\n",
    "    dim = corr_mat.shape[0]\n",
    "\n",
    "    if not dim == len(node_labels):\n",
    "        raise ValueError('number node labels not = corr matrix dimensions')\n",
    "\n",
    "    if graph_type=='signed':\n",
    "        for i in range(dim):\n",
    "            for j in range(i+1, dim):\n",
    "                if corr_mat[i,j] < 0:\n",
    "                    G.add_edge(node_labels[i], node_labels[j], sign=-1)\n",
    "                elif corr_mat[i,j] > 0:\n",
    "                    G.add_edge(node_labels[i], node_labels[j], sign=1)\n",
    "    \n",
    "    if graph_type=='corr':\n",
    "        for i in range(dim):\n",
    "            for j in range(i+1, dim):\n",
    "                if corr_mat[i,j] != 0.000:\n",
    "                    G.add_edge(node_labels[i], node_labels[j])\n",
    "    \n",
    "    if graph_type=='uncorr':\n",
    "        for i in range(dim):\n",
    "            for j in range(i+1, dim):\n",
    "                if corr_mat[i,j] == 0.000:\n",
    "                    G.add_edge(node_labels[i], node_labels[j])\n",
    "    \n",
    "    density = (2*G.number_of_edges())/(G.number_of_nodes()*(G.number_of_nodes() - 1))\n",
    "                \n",
    "    return G, density\n",
    "\n",
    "def get_max_deg(G):\n",
    "    degree_sequence = sorted([d for n, d in G.degree()], reverse=True)\n",
    "\n",
    "    return max(degree_sequence)\n",
    "\n",
    "def clique_size(clique):\n",
    "    return len(clique)"
   ]
  },
  {
   "cell_type": "code",
   "execution_count": 41,
   "metadata": {},
   "outputs": [],
   "source": [
    "# Import data\n",
    "\n",
    "dataset = 'sp100' # values: 'asset_class','ftse','sectors','sp100'\n",
    "\n",
    "corr_tensor = np.load('../Data/%s/%s_corr.npy' % (dataset, dataset))\n",
    "dates = np.load('../Data/%s/%s_dates.npy' % (dataset, dataset))\n",
    "nodes = np.load('../Data/%s/%s_nodes.npy' % (dataset, dataset))\n",
    "nodes_descr = np.load('../Data/%s/%s_nodes_descr.npy' % (dataset, dataset))\n",
    "\n",
    "num_examples = corr_tensor.shape[0]\n",
    "dim = corr_tensor.shape[1]"
   ]
  },
  {
   "cell_type": "code",
   "execution_count": 31,
   "metadata": {},
   "outputs": [
    {
     "name": "stdout",
     "output_type": "stream",
     "text": [
      "num examples: 132, matrix dim: 89\n"
     ]
    }
   ],
   "source": [
    "print(\"num examples: %d, matrix dim: %d\" % (num_examples, dim))"
   ]
  },
  {
   "cell_type": "code",
   "execution_count": 8,
   "metadata": {},
   "outputs": [],
   "source": [
    "# Plot graph density for each threshold. \n",
    "thresh_array = []\n",
    "density_distr = []\n",
    "\n",
    "for i in np.arange(0.1, 1, 0.1):\n",
    "    density_array = []\n",
    "    for j in range(1, int(num_examples/3)):\n",
    "        corr_mat = corr_tensor[j*3, :, :].copy()\n",
    "        corr_mat[(corr_mat > -1*i) & (corr_mat < i)] = 0\n",
    "        G, density = make_graph(corr_mat, nodes, 'corr')\n",
    "        \n",
    "        density_array.append(density)\n",
    "    \n",
    "    density_distr.append(density_array)"
   ]
  },
  {
   "cell_type": "code",
   "execution_count": 9,
   "metadata": {},
   "outputs": [
    {
     "data": {
      "image/png": "[encoded data removed]",
      "text/plain": [
       "<Figure size 432x288 with 1 Axes>"
      ]
     },
     "metadata": {
      "needs_background": "light"
     },
     "output_type": "display_data"
    }
   ],
   "source": [
    "plt.boxplot(density_distr)\n",
    "plt.ylabel(\"Graph Density\")\n",
    "plt.xlabel(\"Correlation Threshold (10^-1)\")\n",
    "plt.title(\"%s Density vs Threshold\" % (dataset))\n",
    "plt.show()"
   ]
  },
  {
   "cell_type": "code",
   "execution_count": 38,
   "metadata": {},
   "outputs": [],
   "source": [
    "# Test to see if DW comp. is working\n",
    "corr_mat = corr_tensor[int(num_examples/2), :, :]\n",
    "        \n",
    "corr_mat[(corr_mat > -1*0.) & (corr_mat < 0.8)] = 0\n",
    "G, density = make_graph(corr_mat, nodes, 'corr')"
   ]
  },
  {
   "cell_type": "code",
   "execution_count": null,
   "metadata": {},
   "outputs": [],
   "source": [
    "density"
   ]
  },
  {
   "cell_type": "code",
   "execution_count": null,
   "metadata": {},
   "outputs": [],
   "source": [
    "max_clique = dnx.maximum_clique(G, sampler)\n",
    "valid_soln = dnx.is_clique(G, max_clique)"
   ]
  },
  {
   "cell_type": "code",
   "execution_count": 35,
   "metadata": {},
   "outputs": [],
   "source": [
    "assert len(max_clique) > 0"
   ]
  },
  {
   "cell_type": "code",
   "execution_count": 36,
   "metadata": {},
   "outputs": [
    {
     "data": {
      "text/plain": [
       "True"
      ]
     },
     "execution_count": 36,
     "metadata": {},
     "output_type": "execute_result"
    }
   ],
   "source": [
    "dnx.is_clique(G, max_clique)"
   ]
  },
  {
   "cell_type": "code",
   "execution_count": 37,
   "metadata": {},
   "outputs": [
    {
     "data": {
      "text/plain": [
       "63"
      ]
     },
     "execution_count": 37,
     "metadata": {},
     "output_type": "execute_result"
    }
   ],
   "source": [
    "clique_size(max_clique)"
   ]
  },
  {
   "cell_type": "code",
   "execution_count": null,
   "metadata": {},
   "outputs": [],
   "source": [
    "# Create graph for each month and calculate max clique. \n",
    "\n",
    "clique_array = []\n",
    "valid_clique_array = []\n",
    "clique_size_array = []\n",
    "date_array = []\n",
    "density_array = []\n",
    "threshold_array = []\n",
    "\n",
    "count = 0\n",
    "for i in np.arange(0.1, 0.6, 0.1):\n",
    "    for j in range(1, int(num_examples/5)):\n",
    "        \n",
    "        corr_mat = corr_tensor[j*5, :, :].copy()\n",
    "        corr_mat[(corr_mat > -1*i) & (corr_mat < i)] = 0\n",
    "        \n",
    "        G, density = make_graph(corr_mat, nodes, 'corr')\n",
    "        \n",
    "        count += 1\n",
    "        if count % 10 == 0: print(\"count: %d\" % (count))\n",
    "        \n",
    "        try:\n",
    "            opt_clique = dnx.maximum_clique(G, sampler)\n",
    "            max_clique_size = len(opt_clique)\n",
    "            valid_clique = dnx.is_clique(G, opt_clique)\n",
    "            \n",
    "            for k in range(3):\n",
    "                max_clique = dnx.maximum_clique(G, sampler)\n",
    "                clique_size = len(max_clique)\n",
    "                valid_clique = dnx.is_clique(G, max_clique)\n",
    "                \n",
    "                if valid_clique and clique_size > max_clique_size:\n",
    "                    opt_clique = max_clique\n",
    "                    max_clique_size = clique_size\n",
    "                \n",
    "        except Exception as err:\n",
    "            print(err)\n",
    "            print(\"No embedding found for threshold %f and matrix %d\" % (i, j*5))\n",
    "        else:\n",
    "            clique_array.append(opt_clique)\n",
    "            valid_clique_array.append(valid_clique)\n",
    "            clique_size_array.append(max_clique_size)\n",
    "            \n",
    "            threshold_array.append(i)\n",
    "            density_array.append(density)\n",
    "            date_array.append(dates[j*5])"
   ]
  },
  {
   "cell_type": "code",
   "execution_count": 90,
   "metadata": {},
   "outputs": [],
   "source": [
    "assert len(clique_array) == len(date_array) == len(density_array) == len(threshold_array) == len(clique_size_array)"
   ]
  },
  {
   "cell_type": "code",
   "execution_count": 91,
   "metadata": {},
   "outputs": [
    {
     "data": {
      "text/plain": [
       "161"
      ]
     },
     "execution_count": 91,
     "metadata": {},
     "output_type": "execute_result"
    }
   ],
   "source": [
    "len(clique_array)"
   ]
  },
  {
   "cell_type": "code",
   "execution_count": 92,
   "metadata": {},
   "outputs": [],
   "source": [
    "# Create Pandas DataFrame for quantum results\n",
    "pd.DataFrame(data={\"date\": date_array, \"threshold\": threshold_array, \"density\": density_array,\n",
    "                \"max_clique\": clique_array, \"clique_size\": clique_size_array, \n",
    "                \"valid_clique\": valid_clique_array}).to_csv(\"maxclique_quant_%s_res.csv\" % (dataset))"
   ]
  },
  {
   "cell_type": "code",
   "execution_count": 93,
   "metadata": {},
   "outputs": [],
   "source": [
    "# Run classical max clique algm on the matrices that ran successfully above\n",
    "from networkx.algorithms.approximation.clique import max_clique as class_max_clique\n",
    "\n",
    "clique_array = []\n",
    "valid_clique_array = []\n",
    "clique_size_array = []\n",
    "density_array = []\n",
    "\n",
    "for i in range(len(threshold_array)):\n",
    "    \n",
    "    # get threshold and matrix idx \n",
    "    thresh = threshold_array[i]\n",
    "    idx = dates.tolist().index(date_array[i])\n",
    "    \n",
    "    corr_mat = corr_tensor[idx, :, :].copy()\n",
    "    corr_mat[(corr_mat > -1*thresh) & (corr_mat < thresh)] = 0\n",
    "\n",
    "    G, density = make_graph(corr_mat, nodes, 'corr')\n",
    "\n",
    "    try:\n",
    "        max_clique = class_max_clique(G)\n",
    "        valid_clique = dnx.is_clique(G, max_clique)\n",
    "    except Exception as err:\n",
    "        print(err)\n",
    "        print(\"Error on matrix %d with threshold %f\" % (j*5, i))\n",
    "    else:\n",
    "        \n",
    "        clique_array.append(max_clique)\n",
    "        valid_clique_array.append(valid_clique)\n",
    "        clique_size_array.append(len(max_clique))\n",
    "\n",
    "        density_array.append(density)\n"
   ]
  },
  {
   "cell_type": "code",
   "execution_count": 94,
   "metadata": {},
   "outputs": [],
   "source": [
    "assert len(clique_array) == len(date_array) == len(density_array) == len(threshold_array) == len(clique_size_array)"
   ]
  },
  {
   "cell_type": "code",
   "execution_count": 95,
   "metadata": {},
   "outputs": [
    {
     "data": {
      "text/plain": [
       "161"
      ]
     },
     "execution_count": 95,
     "metadata": {},
     "output_type": "execute_result"
    }
   ],
   "source": [
    "len(clique_array)"
   ]
  },
  {
   "cell_type": "code",
   "execution_count": 96,
   "metadata": {},
   "outputs": [],
   "source": [
    "# Create Pandas DataFrame for class results\n",
    "pd.DataFrame(data={\"date\": date_array, \"threshold\": threshold_array, \"density\": density_array,\n",
    "                \"max_clique\": clique_array, \"clique_size\": clique_size_array, \n",
    "                \"valid_clique\": valid_clique_array}).to_csv(\"maxclique_class_%s_res.csv\" % (dataset))"
   ]
  },
  {
   "cell_type": "code",
   "execution_count": null,
   "metadata": {},
   "outputs": [],
   "source": []
  }
 ],
 "metadata": {
  "kernelspec": {
   "display_name": "dwave_ocean",
   "language": "python",
   "name": "dwave_ocean"
  },
  "language_info": {
   "codemirror_mode": {
    "name": "ipython",
    "version": 3
   },
   "file_extension": ".py",
   "mimetype": "text/x-python",
   "name": "python",
   "nbconvert_exporter": "python",
   "pygments_lexer": "ipython3",
   "version": "3.5.2"
  }
 },
 "nbformat": 4,
 "nbformat_minor": 2
}
