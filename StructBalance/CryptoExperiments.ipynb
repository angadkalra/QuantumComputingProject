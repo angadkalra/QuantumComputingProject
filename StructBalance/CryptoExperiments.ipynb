{
 "cells": [
  {
   "cell_type": "code",
   "execution_count": 1,
   "metadata": {},
   "outputs": [],
   "source": [
    "import sys, os\n",
    "\n",
    "# DWave Credentials\n",
    "dwave_solver = \"DW_2000Q_2_1\"\n",
    "api_key = 'DEV-3142f58be13a0aacd44657b15b8fb9832ba3bdac'\n",
    "\n",
    "from dwave.system.samplers import DWaveSampler\n",
    "from dwave.system.composites import EmbeddingComposite\n",
    "\n",
    "import dwave_networkx as dnx\n",
    "\n",
    "### Use NetworkX graphic package to create a signed network\n",
    "import networkx as nx\n",
    "\n",
    "# Select a D-Wave system and handle mapping from problem graph to sampler graph\n",
    "sampler = EmbeddingComposite(DWaveSampler(solver=dwave_solver, token=api_key))"
   ]
  },
  {
   "cell_type": "code",
   "execution_count": 2,
   "metadata": {},
   "outputs": [],
   "source": [
    "# Import graph node labels\n",
    "node_labels = []\n",
    "with open('CryptoData/CryptoSymbols.csv') as f:\n",
    "    for line in f.readlines():\n",
    "        line = line.rstrip() \n",
    "        node_labels.append(line)"
   ]
  },
  {
   "cell_type": "code",
   "execution_count": 3,
   "metadata": {},
   "outputs": [],
   "source": [
    "# Import correlation data\n",
    "import scipy.io as sio\n",
    "\n",
    "corr_tensor_15 = sio.loadmat('CryptoData/S_mat_C15.mat').get('S_mat')\n",
    "corr_tensor_20 = sio.loadmat('CryptoData/S_mat_C20.mat').get('S_mat')\n",
    "corr_tensor_25 = sio.loadmat('CryptoData/S_mat_C25.mat').get('S_mat')\n",
    "corr_tensor_29 = sio.loadmat('CryptoData/S_mat_C29.mat').get('S_mat')\n",
    "corr_tensor_32 = sio.loadmat('CryptoData/S_mat_32.mat').get('S_mat')"
   ]
  },
  {
   "cell_type": "code",
   "execution_count": null,
   "metadata": {},
   "outputs": [],
   "source": [
    "import numpy as np\n",
    "\n",
    "for i in range(1,35):\n",
    "    matrix = corr_tensor_15[i*20,:,:]\n",
    "    print(\"Max value: %d\" % (np.amax(matrix)))\n",
    "    print(\"Min value: %d\" % (np.amin(matrix)))"
   ]
  },
  {
   "cell_type": "code",
   "execution_count": null,
   "metadata": {},
   "outputs": [],
   "source": [
    "# Plot frustration score over time for a given tensor \n",
    "\n",
    "def plot_fs_timeseries(tensor):\n",
    "    frustration_array = []\n",
    "    density_array = []\n",
    "\n",
    "\n",
    "    for i in range(1,35):\n",
    "        G = nx.Graph()\n",
    "        G.add_nodes_from(node_labels)\n",
    "        corr_matrix = tensor[i*20,:,:]\n",
    "\n",
    "        # Add weighted edges to graph\n",
    "        for i in range(27):\n",
    "            for j in range(i+1, 27):\n",
    "                if corr_matrix[i,j] < :\n",
    "                    G.add_edge(node_labels[i], node_labels[j], sign=-1)\n",
    "                elif corr_matrix[i,j] > 0:\n",
    "                    G.add_edge(node_labels[i], node_labels[j], sign=1)\n",
    "\n",
    "        density = (2*G.number_of_edges())/(27*26)\n",
    "\n",
    "        try:\n",
    "            imbalance, bicoloring = dnx.structural_imbalance(G, sampler)\n",
    "            frustration_array.append(len(list(imbalance.keys()))/G.number_of_edges())\n",
    "            density_array.append(density)\n",
    "        except:\n",
    "            print(sys.exc_info()[0])\n",
    "            print(i)"
   ]
  },
  {
   "cell_type": "code",
   "execution_count": null,
   "metadata": {},
   "outputs": [],
   "source": [
    "import matplotlib.pyplot as plt\n",
    "\n",
    "plt.figure(1)\n",
    "plt.plot(frustration_array)\n",
    "plt.title(\"Frustration Score vs Time\")"
   ]
  },
  {
   "cell_type": "code",
   "execution_count": null,
   "metadata": {},
   "outputs": [],
   "source": [
    "plt.figure(2)\n",
    "plt.scatter(density_array, frustration_array)\n",
    "plt.title(\"Frustration Score vs Graph Density\")"
   ]
  },
  {
   "cell_type": "code",
   "execution_count": null,
   "metadata": {},
   "outputs": [],
   "source": []
  }
 ],
 "metadata": {
  "kernelspec": {
   "display_name": "dwave_ocean",
   "language": "python",
   "name": "dwave_ocean"
  },
  "language_info": {
   "codemirror_mode": {
    "name": "ipython",
    "version": 3
   },
   "file_extension": ".py",
   "mimetype": "text/x-python",
   "name": "python",
   "nbconvert_exporter": "python",
   "pygments_lexer": "ipython3",
   "version": "3.6.6"
  },
  "varInspector": {
   "cols": {
    "lenName": 16,
    "lenType": 16,
    "lenVar": 40
   },
   "kernels_config": {
    "python": {
     "delete_cmd_postfix": "",
     "delete_cmd_prefix": "del ",
     "library": "var_list.py",
     "varRefreshCmd": "print(var_dic_list())"
    },
    "r": {
     "delete_cmd_postfix": ") ",
     "delete_cmd_prefix": "rm(",
     "library": "var_list.r",
     "varRefreshCmd": "cat(var_dic_list()) "
    }
   },
   "types_to_exclude": [
    "module",
    "function",
    "builtin_function_or_method",
    "instance",
    "_Feature"
   ],
   "window_display": false
  }
 },
 "nbformat": 4,
 "nbformat_minor": 2
}
