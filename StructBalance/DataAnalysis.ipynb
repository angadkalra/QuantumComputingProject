{
 "cells": [
  {
   "cell_type": "code",
   "execution_count": 2,
   "metadata": {},
   "outputs": [],
   "source": [
    "# Import libraries and dataframes\n",
    "import numpy as np\n",
    "import pandas as pd\n",
    "import matplotlib.pyplot as plt\n",
    "\n",
    "dataset = \"ftse\" # Values: asset_class, sectors, ftse\n",
    "\n",
    "quant_res_df = pd.read_csv(\"ResultCSVs/structbal_quant_%s_res.csv\"%(dataset))\n",
    "\n",
    "quant_res_df = quant_res_df.drop(axis=1, columns=['Unnamed: 0'])"
   ]
  },
  {
   "cell_type": "code",
   "execution_count": null,
   "metadata": {},
   "outputs": [],
   "source": [
    "quant_res_df.shape"
   ]
  },
  {
   "cell_type": "code",
   "execution_count": null,
   "metadata": {},
   "outputs": [],
   "source": [
    "# Plot graph density for each threshold. \n",
    "\n",
    "thresh_array = quant_res_df['threshold'].unique()\n",
    "\n",
    "density_distr = []\n",
    "\n",
    "for thresh in thresh_array:\n",
    "    density = quant_res_df[quant_res_df.threshold == thresh]['density']\n",
    "    density_distr.append(density)\n",
    "    \n",
    "plt.boxplot(density_distr, labels=[float('%.2f'%x) for x in thresh_array])\n",
    "plt.ylabel(\"Graph Density\")\n",
    "plt.xlabel(\"Correlation Threshold\")\n",
    "plt.title(\"%s Density vs Threshold\" % (dataset))\n",
    "plt.show()"
   ]
  },
  {
   "cell_type": "code",
   "execution_count": null,
   "metadata": {
    "code_folding": [
     0,
     5
    ]
   },
   "outputs": [],
   "source": [
    "# Plot score vs time for each threshold\n",
    "import json\n",
    "thresholds = quant_res_df['threshold'].unique()\n",
    "\n",
    "i = 1\n",
    "for thresh in thresholds:\n",
    "    quant_series = quant_res_df[(quant_res_df.threshold == thresh)]\n",
    "        \n",
    "    fig = plt.figure(i)\n",
    "    plt.subplots_adjust(wspace=1)\n",
    "    plt.subplots(figsize=(15,5))\n",
    "    \n",
    "    plt.subplot(121)\n",
    "    plt.title('Struct. Balance, %s, thresh = %f' % (dataset, thresh))\n",
    "    plt.ylabel('Frustration')\n",
    "    plt.xlabel('Date')\n",
    "    \n",
    "    plt.plot(quant_series['frustration_score'], 'r--', label='Quant Alg')\n",
    "    plt.legend(loc=0)\n",
    "    \n",
    "    plt.subplot(122)\n",
    "    plt.title('%s Graph Density vs Time, thresh=%f' % (dataset, thresh))\n",
    "    plt.plot(quant_series['date'], quant_series['density'], '--')\n",
    "    \n",
    "    plt.savefig('../ReportFiguresPlots/StructBalance/%s_score_density_time_thresh_%f.png' % (dataset, thresh))\n",
    "    \n",
    "    i += 1"
   ]
  },
  {
   "cell_type": "code",
   "execution_count": 5,
   "metadata": {},
   "outputs": [],
   "source": [
    "datasets = [\"sectors\", \"ftse\", \"asset_class\"]\n",
    "\n",
    "quant_dfs = []\n",
    "\n",
    "for d in datasets:\n",
    "    qdf = pd.read_csv(\"ResultCSVs/structbal_quant_%s_res.csv\" % (d))\n",
    "    \n",
    "    quant_dfs.append(qdf)\n",
    "\n",
    "all_quant_df = pd.concat(quant_dfs)"
   ]
  },
  {
   "cell_type": "code",
   "execution_count": 7,
   "metadata": {},
   "outputs": [],
   "source": [
    "all_quant_df = all_quant_df.groupby([\"density\"])[\"frustration_score\"].mean()"
   ]
  },
  {
   "cell_type": "code",
   "execution_count": null,
   "metadata": {},
   "outputs": [],
   "source": [
    "plt.figure(1, figsize=(15,10))\n",
    "plt.plot(all_quant_df, 'r--', label='Quant Alg')\n",
    "plt.title(\"Frustration Score vs Density\")\n",
    "plt.ylabel(\"Frustration Score\")\n",
    "plt.xlabel(\"Density\")\n",
    "plt.legend(loc=0)\n",
    "plt.show()\n",
    "plt.savefig(\"../ReportFiguresPlots/structbal_density_all.png\")"
   ]
  }
 ],
 "metadata": {
  "kernelspec": {
   "display_name": "dwave_ocean",
   "language": "python",
   "name": "dwave_ocean"
  },
  "language_info": {
   "codemirror_mode": {
    "name": "ipython",
    "version": 3
   },
   "file_extension": ".py",
   "mimetype": "text/x-python",
   "name": "python",
   "nbconvert_exporter": "python",
   "pygments_lexer": "ipython3",
   "version": "3.5.2"
  }
 },
 "nbformat": 4,
 "nbformat_minor": 2
}
