{
 "cells": [
  {
   "cell_type": "code",
   "execution_count": 18,
   "metadata": {},
   "outputs": [],
   "source": [
    "import sys, os\n",
    "import numpy as np\n",
    "import pandas as pd\n",
    "import matplotlib.pyplot as plt\n",
    "\n",
    "# DWave Credentials\n",
    "dwave_solver = \"DW_2000Q_2_1\"\n",
    "api_key = 'DEV-3142f58be13a0aacd44657b15b8fb9832ba3bdac'\n",
    "\n",
    "from dwave.system.samplers import DWaveSampler\n",
    "from dwave.system.composites import EmbeddingComposite\n",
    "\n",
    "import dwave_networkx as dnx\n",
    "\n",
    "### Use NetworkX graphic package to create a signed network\n",
    "import networkx as nx\n",
    "\n",
    "# Select a D-Wave system and handle mapping from problem graph to sampler graph\n",
    "sampler = EmbeddingComposite(DWaveSampler(solver=dwave_solver, token=api_key))"
   ]
  },
  {
   "cell_type": "code",
   "execution_count": 19,
   "metadata": {},
   "outputs": [],
   "source": [
    "# Import Asset Class data\n",
    "\n",
    "dataset = 'sp100' # values: 'asset_class','ftse','sectors','sp100'\n",
    "\n",
    "corr_tensor = np.load('AssetData/' + dataset + '_corr.npy')\n",
    "dates = np.load('AssetData/' + dataset + '_dates.npy')\n",
    "nodes = np.load('AssetData/' + dataset + '_nodes.npy')\n",
    "nodes_descr = np.load('AssetData/' + dataset + '_nodes_descr.npy')"
   ]
  },
  {
   "cell_type": "code",
   "execution_count": 38,
   "metadata": {},
   "outputs": [],
   "source": [
    "# Helper Functions\n",
    "\n",
    "def make_graph(corr_mat, node_labels, type):\n",
    "\n",
    "    G = nx.Graph()\n",
    "    G.add_nodes_from(node_labels)\n",
    "    dim = corr_mat.shape[0]\n",
    "\n",
    "    if not dim == len(node_labels):\n",
    "        raise ValueError('number node labels not = corr matrix dimensions')\n",
    "\n",
    "    if type=='signed':\n",
    "        for i in range(dim):\n",
    "            for j in range(i+1, dim):\n",
    "                if corr_mat[i,j] < 0:\n",
    "                    G.add_edge(node_labels[i], node_labels[j], sign=-1)\n",
    "                elif corr_mat[i,j] > 0:\n",
    "                    G.add_edge(node_labels[i], node_labels[j], sign=1)\n",
    "    \n",
    "    if type=='corr':\n",
    "        for i in range(dim):\n",
    "            for j in range(i+1, dim):\n",
    "                if not corr_mat[i,j] == 0:\n",
    "                    G.add_edge(node_labels[i], node_labels[j])\n",
    "    \n",
    "    if type=='uncorr':\n",
    "        for i in range(dim):\n",
    "            for j in range(i+1, dim):\n",
    "                if corr_mat[i,j] == 0:\n",
    "                    G.add_edge(node_labels[i], node_labels[j])\n",
    "    \n",
    "    density = (2*G.number_of_edges())/(G.number_of_nodes()*(G.number_of_nodes() - 1))\n",
    "                \n",
    "    return G, density"
   ]
  },
  {
   "cell_type": "code",
   "execution_count": 60,
   "metadata": {},
   "outputs": [
    {
     "name": "stdout",
     "output_type": "stream",
     "text": [
      "<class 'ValueError'>\n",
      "i: 0, j: 1\n",
      "<class 'ValueError'>\n",
      "i: 0, j: 2\n",
      "<class 'ValueError'>\n",
      "i: 0, j: 3\n",
      "<class 'ValueError'>\n",
      "i: 0, j: 4\n",
      "<class 'ValueError'>\n",
      "i: 0, j: 5\n",
      "<class 'ValueError'>\n",
      "i: 0, j: 6\n",
      "<class 'ValueError'>\n",
      "i: 0, j: 7\n",
      "<class 'ValueError'>\n",
      "i: 0, j: 8\n",
      "<class 'ValueError'>\n",
      "i: 0, j: 9\n",
      "<class 'ValueError'>\n",
      "i: 0, j: 10\n",
      "<class 'ValueError'>\n",
      "i: 0, j: 11\n",
      "<class 'ValueError'>\n",
      "i: 0, j: 13\n",
      "<class 'ValueError'>\n",
      "i: 0, j: 14\n",
      "<class 'ValueError'>\n",
      "i: 0, j: 15\n",
      "<class 'ValueError'>\n",
      "i: 0, j: 17\n",
      "<class 'ValueError'>\n",
      "i: 0, j: 19\n",
      "<class 'ValueError'>\n",
      "i: 0, j: 20\n",
      "<class 'ValueError'>\n",
      "i: 0, j: 21\n",
      "<class 'ValueError'>\n",
      "i: 0, j: 23\n",
      "<class 'ValueError'>\n",
      "i: 0, j: 25\n",
      "<class 'ValueError'>\n",
      "i: 0, j: 1\n",
      "<class 'ValueError'>\n",
      "i: 0, j: 2\n",
      "<class 'ValueError'>\n",
      "i: 0, j: 3\n",
      "<class 'ValueError'>\n",
      "i: 0, j: 4\n",
      "<class 'ValueError'>\n",
      "i: 0, j: 5\n",
      "<class 'ValueError'>\n",
      "i: 0, j: 6\n",
      "<class 'ValueError'>\n",
      "i: 0, j: 7\n",
      "<class 'ValueError'>\n",
      "i: 0, j: 8\n",
      "<class 'ValueError'>\n",
      "i: 0, j: 9\n",
      "<class 'ValueError'>\n",
      "i: 0, j: 10\n",
      "<class 'ValueError'>\n",
      "i: 0, j: 11\n",
      "<class 'ValueError'>\n",
      "i: 0, j: 13\n",
      "<class 'ValueError'>\n",
      "i: 0, j: 14\n",
      "<class 'ValueError'>\n",
      "i: 0, j: 15\n",
      "<class 'ValueError'>\n",
      "i: 0, j: 17\n",
      "<class 'ValueError'>\n",
      "i: 0, j: 18\n",
      "<class 'ValueError'>\n",
      "i: 0, j: 19\n",
      "<class 'ValueError'>\n",
      "i: 0, j: 20\n",
      "<class 'ValueError'>\n",
      "i: 0, j: 21\n",
      "<class 'ValueError'>\n",
      "i: 0, j: 23\n",
      "<class 'ValueError'>\n",
      "i: 0, j: 25\n",
      "<class 'ValueError'>\n",
      "i: 0, j: 1\n",
      "<class 'ValueError'>\n",
      "i: 0, j: 2\n",
      "<class 'ValueError'>\n",
      "i: 0, j: 4\n",
      "<class 'ValueError'>\n",
      "i: 0, j: 5\n",
      "<class 'ValueError'>\n",
      "i: 0, j: 6\n",
      "<class 'ValueError'>\n",
      "i: 0, j: 8\n",
      "<class 'ValueError'>\n",
      "i: 0, j: 10\n",
      "<class 'ValueError'>\n",
      "i: 0, j: 11\n",
      "<class 'ValueError'>\n",
      "i: 0, j: 13\n",
      "<class 'ValueError'>\n",
      "i: 0, j: 14\n",
      "<class 'ValueError'>\n",
      "i: 0, j: 17\n",
      "<class 'ValueError'>\n",
      "i: 0, j: 19\n",
      "<class 'ValueError'>\n",
      "i: 0, j: 20\n",
      "<class 'ValueError'>\n",
      "i: 0, j: 4\n",
      "<class 'ValueError'>\n",
      "i: 0, j: 8\n",
      "<class 'ValueError'>\n",
      "i: 0, j: 11\n"
     ]
    }
   ],
   "source": [
    "# Create graph for each month and plot frustration over time. Use different thresholds. \n",
    "frustration_array = []\n",
    "date_array = []\n",
    "density_array = []\n",
    "threshold_array = []\n",
    "\n",
    "for i in np.arange(0.1, 1, 0.2):\n",
    "    \n",
    "    threshold_array.append(i)\n",
    "    \n",
    "    for j in range(1, 26):\n",
    "        corr_mat = corr_tensor[j*5, :, :]\n",
    "        \n",
    "        corr_mat[(corr_mat > -1*i) & (corr_mat < i)] = 0\n",
    "        G, density = make_graph(corr_mat, nodes, type=G_type)\n",
    "\n",
    "        try:\n",
    "            imbalance, bicoloring = dnx.structural_imbalance(G, sampler)\n",
    "            frustration_score = len(list(imbalance.keys()))/G.number_of_edges()\n",
    "\n",
    "            frustration_array.append(frustration_score)\n",
    "            density_array.append(density)\n",
    "            date_array.append(dates[j*5])\n",
    "        except:\n",
    "            print(sys.exc_info()[0])\n",
    "            print(\"i: %f, j: %f\" % (i,j))"
   ]
  },
  {
   "cell_type": "code",
   "execution_count": 64,
   "metadata": {},
   "outputs": [
    {
     "data": {
      "text/plain": [
       "Text(0.5, 1.0, 'Frustration Score vs Time')"
      ]
     },
     "execution_count": 64,
     "metadata": {},
     "output_type": "execute_result"
    },
    {
     "data": {
      "image/png": "[encoded data removed]",
      "text/plain": [
       "<Figure size 432x288 with 1 Axes>"
      ]
     },
     "metadata": {
      "needs_background": "light"
     },
     "output_type": "display_data"
    }
   ],
   "source": [
    "plt.figure(1)\n",
    "plt.plot(frustration_array)\n",
    "plt.title(\"Frustration Score vs Time\")"
   ]
  },
  {
   "cell_type": "code",
   "execution_count": 65,
   "metadata": {},
   "outputs": [
    {
     "data": {
      "text/plain": [
       "Text(0.5, 1.0, 'Frustration Score vs Graph Density')"
      ]
     },
     "execution_count": 65,
     "metadata": {},
     "output_type": "execute_result"
    },
    {
     "data": {
      "image/png": "[encoded data removed]",
      "text/plain": [
       "<Figure size 432x288 with 1 Axes>"
      ]
     },
     "metadata": {
      "needs_background": "light"
     },
     "output_type": "display_data"
    }
   ],
   "source": [
    "# Plot graph density over time using different thresholds. \n",
    "plt.figure(2)\n",
    "plt.scatter(density_array, frustration_array)\n",
    "plt.title(\"Frustration Score vs Graph Density\")"
   ]
  },
  {
   "cell_type": "code",
   "execution_count": null,
   "metadata": {},
   "outputs": [],
   "source": []
  }
 ],
 "metadata": {
  "kernelspec": {
   "display_name": "dwave_ocean",
   "language": "python",
   "name": "dwave_ocean"
  },
  "language_info": {
   "codemirror_mode": {
    "name": "ipython",
    "version": 3
   },
   "file_extension": ".py",
   "mimetype": "text/x-python",
   "name": "python",
   "nbconvert_exporter": "python",
   "pygments_lexer": "ipython3",
   "version": "3.6.6"
  }
 },
 "nbformat": 4,
 "nbformat_minor": 2
}
