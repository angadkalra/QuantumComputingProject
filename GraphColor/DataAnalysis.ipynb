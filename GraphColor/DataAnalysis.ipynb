{
 "cells": [
  {
   "cell_type": "code",
   "execution_count": null,
   "metadata": {},
   "outputs": [],
   "source": [
    "import os, sys\n",
    "\n",
    "os.getcwd()"
   ]
  },
  {
   "cell_type": "code",
   "execution_count": null,
   "metadata": {},
   "outputs": [],
   "source": [
    "# Import libraries and dataframes\n",
    "import numpy as np\n",
    "import pandas as pd\n",
    "import matplotlib.pyplot as plt\n",
    "\n",
    "dataset = \"sectors\" # Values: asset_class, sectors, ftse\n",
    "\n",
    "quant_res_df = pd.read_csv(\"ResultCSVs/grphcolor_quant_%s_res.csv\" % (dataset))\n",
    "class_res_df = pd.read_csv(\"ResultCSVs/grphcolor_class_%s_res.csv\" % (dataset))\n",
    "\n",
    "quant_res_df = quant_res_df.drop(axis=1, columns=['Unnamed: 0'])\n",
    "class_res_df = class_res_df.drop(axis=1, columns=['Unnamed: 0'])"
   ]
  },
  {
   "cell_type": "code",
   "execution_count": null,
   "metadata": {},
   "outputs": [],
   "source": [
    "quant_res_df.shape"
   ]
  },
  {
   "cell_type": "code",
   "execution_count": 3,
   "metadata": {},
   "outputs": [
    {
     "data": {
      "text/plain": [
       "Index(['date', 'threshold', 'density', 'coloring', 'num_colors',\n",
       "       'valid_coloring'],\n",
       "      dtype='object')"
      ]
     },
     "execution_count": 3,
     "metadata": {},
     "output_type": "execute_result"
    }
   ],
   "source": [
    "quant_res_df.columns"
   ]
  },
  {
   "cell_type": "code",
   "execution_count": null,
   "metadata": {
    "code_folding": [
     6
    ]
   },
   "outputs": [],
   "source": [
    "# Plot graph density for each threshold. \n",
    "\n",
    "thresh_array = quant_res_df['threshold'].unique()\n",
    "\n",
    "density_distr = []\n",
    "\n",
    "for thresh in thresh_array:\n",
    "    density = quant_res_df[quant_res_df.threshold == thresh]['density']\n",
    "    density_distr.append(density)\n",
    "    \n",
    "plt.boxplot(density_distr, labels=[float('%.2f'%x) for x in thresh_array])\n",
    "plt.ylabel(\"Graph Density\")\n",
    "plt.xlabel(\"Correlation Threshold\")\n",
    "plt.title(\"%s Density vs Threshold\" % (dataset))\n",
    "plt.show()"
   ]
  },
  {
   "cell_type": "code",
   "execution_count": null,
   "metadata": {},
   "outputs": [],
   "source": [
    "[float('%.2f'%x) for x in thresh_array]"
   ]
  },
  {
   "cell_type": "code",
   "execution_count": null,
   "metadata": {},
   "outputs": [],
   "source": [
    "# Plot score vs time for each threshold\n",
    "thresholds = quant_res_df['threshold'].unique()\n",
    "\n",
    "i = 1\n",
    "for thresh in thresholds:\n",
    "    quant_series = quant_res_df[(quant_res_df.threshold == thresh) & (quant_res_df.valid_coloring == True)]\n",
    "    class_series = class_res_df[(class_res_df.threshold == thresh) & (class_res_df.valid_coloring == True)]\n",
    "    class_series = class_series[class_series['date'].isin(quant_series['date'])]\n",
    "    \n",
    "    assert quant_series.shape == class_series.shape\n",
    "    \n",
    "    fig = plt.figure(i)\n",
    "    plt.subplots_adjust(wspace=1)\n",
    "    plt.subplots(figsize=(15,5))\n",
    "    \n",
    "    plt.subplot(121)\n",
    "    plt.title('Min. Grph Color vs Time, %s, thresh = %f' % (dataset, thresh))\n",
    "    plt.ylabel('Num. Colors')\n",
    "    plt.xlabel('Date')\n",
    "    \n",
    "    plt.plot(quant_series['num_colors'], 'r--', label='Quant Alg')\n",
    "    plt.plot(class_series['num_colors'], 'b--', label='Class Alg')\n",
    "    plt.legend(loc=0)\n",
    "    \n",
    "    plt.subplot(122)\n",
    "    plt.title('%s Graph Density vs Time, thresh=%f' % (dataset, thresh))\n",
    "    plt.plot(quant_series['date'], quant_series['density'], '--')\n",
    "    \n",
    "    plt.savefig('../ReportFiguresPlots/GraphColor/%s_score_density_time_thresh_%f.png' % (dataset, thresh))\n",
    "    \n",
    "    i += 1"
   ]
  },
  {
   "cell_type": "code",
   "execution_count": null,
   "metadata": {},
   "outputs": [],
   "source": []
  }
 ],
 "metadata": {
  "kernelspec": {
   "display_name": "dwave_ocean",
   "language": "python",
   "name": "dwave_ocean"
  },
  "language_info": {
   "codemirror_mode": {
    "name": "ipython",
    "version": 3
   },
   "file_extension": ".py",
   "mimetype": "text/x-python",
   "name": "python",
   "nbconvert_exporter": "python",
   "pygments_lexer": "ipython3",
   "version": "3.5.2"
  }
 },
 "nbformat": 4,
 "nbformat_minor": 2
}
