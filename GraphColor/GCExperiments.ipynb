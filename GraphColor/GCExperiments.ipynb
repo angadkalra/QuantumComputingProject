{
 "cells": [
  {
   "cell_type": "code",
   "execution_count": 1,
   "metadata": {},
   "outputs": [],
   "source": [
    "import sys, os\n",
    "import numpy as np\n",
    "import pandas as pd\n",
    "import matplotlib.pyplot as plt\n",
    "\n",
    "# DWave Credentials\n",
    "dwave_solver = os.getenv('DWAVE_API_SOLVER')\n",
    "api_key = os.getenv('DWAVE_API_TOKEN')\n",
    "\n",
    "from dwave.system.samplers import DWaveSampler\n",
    "from dwave.system.composites import EmbeddingComposite\n",
    "\n",
    "import dwave_networkx as dnx\n",
    "\n",
    "### Use NetworkX graphic package to create a signed network\n",
    "import networkx as nx\n",
    "\n",
    "# Select a D-Wave system and handle mapping from problem graph to sampler graph\n",
    "sampler = EmbeddingComposite(DWaveSampler(solver=dwave_solver, token=api_key))"
   ]
  },
  {
   "cell_type": "code",
   "execution_count": 28,
   "metadata": {},
   "outputs": [],
   "source": [
    "# Import data\n",
    "\n",
    "dataset = 'asset_class' # values: 'asset_class','ftse','sectors','sp100'\n",
    "\n",
    "corr_tensor = np.load('../Data/%s/%s_corr.npy' % (dataset, dataset))\n",
    "dates = np.load('../Data/%s/%s_dates.npy' % (dataset, dataset))\n",
    "nodes = np.load('../Data/%s/%s_nodes.npy' % (dataset, dataset))\n",
    "nodes_descr = np.load('../Data/%s/%s_nodes_descr.npy' % (dataset, dataset))\n",
    "\n",
    "num_examples = corr_tensor.shape[0]\n",
    "dim = corr_tensor.shape[1]"
   ]
  },
  {
   "cell_type": "code",
   "execution_count": 3,
   "metadata": {},
   "outputs": [
    {
     "name": "stdout",
     "output_type": "stream",
     "text": [
      "num examples: 120, matrix dim: 19\n"
     ]
    }
   ],
   "source": [
    "print(\"num examples: %d, matrix dim: %d\" % (num_examples, dim))"
   ]
  },
  {
   "cell_type": "code",
   "execution_count": 4,
   "metadata": {
    "code_folding": [
     2,
     35,
     40
    ]
   },
   "outputs": [],
   "source": [
    "# Helper Functions\n",
    "\n",
    "def make_graph(corr_mat, node_labels, graph_type):\n",
    "\n",
    "    G = nx.Graph()\n",
    "    G.add_nodes_from(node_labels)\n",
    "    dim = corr_mat.shape[0]\n",
    "\n",
    "    if not dim == len(node_labels):\n",
    "        raise ValueError('number node labels not = corr matrix dimensions')\n",
    "\n",
    "    if graph_type=='signed':\n",
    "        for i in range(dim):\n",
    "            for j in range(i+1, dim):\n",
    "                if corr_mat[i,j] < 0:\n",
    "                    G.add_edge(node_labels[i], node_labels[j], sign=-1)\n",
    "                elif corr_mat[i,j] > 0:\n",
    "                    G.add_edge(node_labels[i], node_labels[j], sign=1)\n",
    "    \n",
    "    if graph_type=='corr':\n",
    "        for i in range(dim):\n",
    "            for j in range(i+1, dim):\n",
    "                if corr_mat[i,j] != 0.000:\n",
    "                    G.add_edge(node_labels[i], node_labels[j])\n",
    "    \n",
    "    if graph_type=='uncorr':\n",
    "        for i in range(dim):\n",
    "            for j in range(i+1, dim):\n",
    "                if corr_mat[i,j] == 0.000:\n",
    "                    G.add_edge(node_labels[i], node_labels[j])\n",
    "    \n",
    "    density = (2*G.number_of_edges())/(G.number_of_nodes()*(G.number_of_nodes() - 1))\n",
    "                \n",
    "    return G, density\n",
    "\n",
    "def get_max_deg(G):\n",
    "    degree_sequence = sorted([d for n, d in G.degree()], reverse=True)\n",
    "\n",
    "    return max(degree_sequence)\n",
    "\n",
    "def coloring_score(G, coloring):\n",
    "    count = 0\n",
    "    for e in G.edges():\n",
    "        v1, v2 = e\n",
    "        if coloring[v1] == coloring[v2]:\n",
    "            count += 1\n",
    "        \n",
    "        return count/G.number_of_edges()"
   ]
  },
  {
   "cell_type": "code",
   "execution_count": 17,
   "metadata": {},
   "outputs": [],
   "source": [
    "# Test to see if DW comp. is working\n",
    "corr_mat = corr_tensor[int(num_examples/2), :, :].copy()\n",
    "        \n",
    "corr_mat[(corr_mat > -1*0.5) & (corr_mat < 0.5)] = 0\n",
    "G, density = make_graph(corr_mat, nodes, 'corr')"
   ]
  },
  {
   "cell_type": "code",
   "execution_count": 23,
   "metadata": {},
   "outputs": [],
   "source": [
    "coloring = dnx.min_vertex_coloring(G, sampler)\n",
    "num_colors = np.max(list(coloring.values()))"
   ]
  },
  {
   "cell_type": "code",
   "execution_count": 24,
   "metadata": {},
   "outputs": [],
   "source": [
    "assert num_colors > 0 and num_colors <= get_max_deg(G)"
   ]
  },
  {
   "cell_type": "code",
   "execution_count": 25,
   "metadata": {},
   "outputs": [
    {
     "data": {
      "text/plain": [
       "False"
      ]
     },
     "execution_count": 25,
     "metadata": {},
     "output_type": "execute_result"
    }
   ],
   "source": [
    "dnx.is_vertex_coloring(G, coloring)"
   ]
  },
  {
   "cell_type": "code",
   "execution_count": 26,
   "metadata": {
    "code_folding": []
   },
   "outputs": [],
   "source": [
    "# Plot graph density for each threshold. \n",
    "\n",
    "thresh_array = []\n",
    "density_distr = []\n",
    "\n",
    "for i in np.arange(0.1, 1, 0.1):\n",
    "    density_array = []\n",
    "    for j in range(1, int(num_examples/5)):\n",
    "        corr_mat = corr_tensor[j*5, :, :].copy()\n",
    "        corr_mat[(corr_mat > -1*i) & (corr_mat < i)] = 0\n",
    "        G, density = make_graph(corr_mat, nodes, 'corr')\n",
    "        \n",
    "        density_array.append(density)\n",
    "    \n",
    "    density_distr.append(density_array)"
   ]
  },
  {
   "cell_type": "code",
   "execution_count": 27,
   "metadata": {},
   "outputs": [
    {
     "data": {
      "image/png": "[encoded data removed]",
      "text/plain": [
       "<Figure size 432x288 with 1 Axes>"
      ]
     },
     "metadata": {
      "needs_background": "light"
     },
     "output_type": "display_data"
    }
   ],
   "source": [
    "plt.boxplot(density_distr)\n",
    "plt.ylabel(\"Graph Density\")\n",
    "plt.xlabel(\"Correlation Threshold (10^-1)\")\n",
    "plt.title(\"%s Density vs Threshold\" % (dataset))\n",
    "plt.show()"
   ]
  },
  {
   "cell_type": "code",
   "execution_count": 29,
   "metadata": {
    "scrolled": true
   },
   "outputs": [
    {
     "name": "stdout",
     "output_type": "stream",
     "text": [
      "no embedding found\n",
      "Error on matrix 5 with threshold 0.500000\n",
      "no embedding found\n",
      "Error on matrix 10 with threshold 0.500000\n",
      "'USO'\n",
      "Error on matrix 15 with threshold 0.500000\n",
      "no embedding found\n",
      "Error on matrix 20 with threshold 0.500000\n",
      "no embedding found\n",
      "Error on matrix 25 with threshold 0.500000\n",
      "'TIP'\n",
      "Error on matrix 35 with threshold 0.500000\n",
      "'VEU'\n",
      "Error on matrix 40 with threshold 0.500000\n",
      "count: 10\n",
      "'TLT'\n",
      "Error on matrix 55 with threshold 0.500000\n",
      "'USRT'\n",
      "Error on matrix 60 with threshold 0.500000\n"
     ]
    },
    {
     "name": "stderr",
     "output_type": "stream",
     "text": [
      "/home/angad/Projects/quantcomp/ocean/lib/python3.6/site-packages/dwave_networkx/algorithms/coloring.py:200: ComplexWarning: Casting complex values to real discards the imaginary part\n",
      "  bound = ceil(max(eigenvalues(nx.to_numpy_matrix(G))))\n"
     ]
    },
    {
     "name": "stdout",
     "output_type": "stream",
     "text": [
      "'SHY'\n",
      "Error on matrix 70 with threshold 0.500000\n",
      "Unknown exception\n",
      "Error on matrix 75 with threshold 0.500000\n",
      "'VEU'\n",
      "Error on matrix 85 with threshold 0.500000\n",
      "'VTI'\n",
      "Error on matrix 90 with threshold 0.500000\n",
      "count: 20\n",
      "'VB'\n",
      "Error on matrix 100 with threshold 0.500000\n",
      "'VO'\n",
      "Error on matrix 105 with threshold 0.500000\n",
      "'USRT'\n",
      "Error on matrix 110 with threshold 0.500000\n",
      "'VTI'\n",
      "Error on matrix 115 with threshold 0.500000\n",
      "'VB'\n",
      "Error on matrix 5 with threshold 0.600000\n",
      "no embedding found\n",
      "Error on matrix 10 with threshold 0.600000\n",
      "'RWR'\n",
      "Error on matrix 15 with threshold 0.600000\n",
      "'VB'\n",
      "Error on matrix 20 with threshold 0.600000\n",
      "no embedding found\n",
      "Error on matrix 25 with threshold 0.600000\n",
      "'DBE'\n",
      "Error on matrix 30 with threshold 0.600000\n",
      "count: 30\n",
      "no embedding found\n",
      "Error on matrix 40 with threshold 0.600000\n",
      "'USRT'\n",
      "Error on matrix 50 with threshold 0.600000\n",
      "Unknown exception\n",
      "Error on matrix 65 with threshold 0.600000\n",
      "Unknown exception\n",
      "Error on matrix 70 with threshold 0.600000\n",
      "Unknown exception\n",
      "Error on matrix 75 with threshold 0.600000\n",
      "'MUB'\n",
      "Error on matrix 80 with threshold 0.600000\n",
      "count: 40\n",
      "'VO'\n",
      "Error on matrix 90 with threshold 0.600000\n",
      "Unknown exception\n",
      "Error on matrix 95 with threshold 0.600000\n",
      "'SLV'\n",
      "Error on matrix 100 with threshold 0.600000\n",
      "'VEU'\n",
      "Error on matrix 110 with threshold 0.600000\n",
      "'VWO'\n",
      "Error on matrix 10 with threshold 0.700000\n",
      "\n",
      "Error on matrix 15 with threshold 0.700000\n",
      "count: 50\n",
      "'ICF'\n",
      "Error on matrix 20 with threshold 0.700000\n",
      "Unknown exception\n",
      "Error on matrix 25 with threshold 0.700000\n",
      "'DBE'\n",
      "Error on matrix 30 with threshold 0.700000\n",
      "Unknown exception\n",
      "Error on matrix 40 with threshold 0.700000\n",
      "'VO'\n",
      "Error on matrix 45 with threshold 0.700000\n",
      "'VTI'\n",
      "Error on matrix 50 with threshold 0.700000\n",
      "count: 60\n",
      "'VB'\n",
      "Error on matrix 75 with threshold 0.700000\n",
      "Unknown exception\n",
      "Error on matrix 80 with threshold 0.700000\n",
      "'VEU'\n",
      "Error on matrix 90 with threshold 0.700000\n",
      "Unknown exception\n",
      "Error on matrix 105 with threshold 0.700000\n",
      "Unknown exception\n",
      "Error on matrix 110 with threshold 0.700000\n",
      "count: 70\n",
      "'ICF'\n",
      "Error on matrix 10 with threshold 0.800000\n",
      "'VO'\n",
      "Error on matrix 25 with threshold 0.800000\n",
      "Unknown exception\n",
      "Error on matrix 35 with threshold 0.800000\n",
      "'USRT'\n",
      "Error on matrix 45 with threshold 0.800000\n",
      "count: 80\n",
      "Unknown exception\n",
      "Error on matrix 55 with threshold 0.800000\n",
      "Unknown exception\n",
      "Error on matrix 65 with threshold 0.800000\n",
      "'BND'\n",
      "Error on matrix 75 with threshold 0.800000\n",
      "Unknown exception\n",
      "Error on matrix 80 with threshold 0.800000\n",
      "Unknown exception\n",
      "Error on matrix 95 with threshold 0.800000\n",
      "Unknown exception\n",
      "Error on matrix 100 with threshold 0.800000\n",
      "count: 90\n",
      "Unknown exception\n",
      "Error on matrix 105 with threshold 0.800000\n",
      "Unknown exception\n",
      "Error on matrix 115 with threshold 0.800000\n",
      "Unknown exception\n",
      "Error on matrix 35 with threshold 0.900000\n",
      "count: 100\n",
      "'ICF'\n",
      "Error on matrix 45 with threshold 0.900000\n",
      "Unknown exception\n",
      "Error on matrix 60 with threshold 0.900000\n",
      "Unknown exception\n",
      "Error on matrix 70 with threshold 0.900000\n",
      "Unknown exception\n",
      "Error on matrix 85 with threshold 0.900000\n",
      "count: 110\n",
      "Unknown exception\n",
      "Error on matrix 95 with threshold 0.900000\n",
      "Unknown exception\n",
      "Error on matrix 110 with threshold 0.900000\n"
     ]
    }
   ],
   "source": [
    "# Create graph for each date and calculate best coloring using quantum computer. \n",
    "\n",
    "coloring_array = []\n",
    "valid_coloring_array = []\n",
    "num_colors_array = []\n",
    "date_array = []\n",
    "density_array = []\n",
    "threshold_array = []\n",
    "\n",
    "count = 0\n",
    "for i in np.arange(0.5, 1, 0.1):\n",
    "    for j in range(1, int(num_examples/5)):\n",
    "        \n",
    "        corr_mat = corr_tensor[j*5, :, :].copy()\n",
    "        corr_mat[(corr_mat > -1*i) & (corr_mat < i)] = 0\n",
    "        \n",
    "        G, density = make_graph(corr_mat, nodes, 'corr')\n",
    "        \n",
    "        count += 1\n",
    "        if count % 10 == 0: \n",
    "            print(\"count: %d\" % (count))\n",
    "            \n",
    "        try:\n",
    "            opt_coloring = {}\n",
    "            min_colors = dim\n",
    "            \n",
    "            for k in range(10):\n",
    "                coloring = dnx.min_vertex_coloring(G, sampler)\n",
    "                num_colors = np.max(list(coloring.values())) + 1\n",
    "                valid_coloring = dnx.is_vertex_coloring(G, coloring)\n",
    "                \n",
    "                if valid_coloring and num_colors < min_colors:\n",
    "                    opt_coloring = coloring\n",
    "                    min_colors = num_colors\n",
    "            \n",
    "            if opt_coloring == {}:\n",
    "                raise Exception\n",
    "                \n",
    "        except Exception as err:\n",
    "            print(err)\n",
    "            print(\"Error on matrix %d with threshold %f\" % (j*5, i))\n",
    "        else:\n",
    "            \n",
    "            coloring_array.append(opt_coloring)\n",
    "            num_colors_array.append(min_colors)\n",
    "            valid_coloring_array.append(valid_coloring)\n",
    "            \n",
    "            threshold_array.append(i)\n",
    "            density_array.append(density)\n",
    "            date_array.append(dates[j*5])\n",
    "        "
   ]
  },
  {
   "cell_type": "code",
   "execution_count": 30,
   "metadata": {},
   "outputs": [],
   "source": [
    "assert len(coloring_array) == len(date_array) == len(density_array) == len(threshold_array) == len(num_colors_array)"
   ]
  },
  {
   "cell_type": "code",
   "execution_count": 31,
   "metadata": {},
   "outputs": [
    {
     "data": {
      "text/plain": [
       "50"
      ]
     },
     "execution_count": 31,
     "metadata": {},
     "output_type": "execute_result"
    }
   ],
   "source": [
    "len(date_array)"
   ]
  },
  {
   "cell_type": "code",
   "execution_count": 32,
   "metadata": {},
   "outputs": [],
   "source": [
    "# Create Pandas DataFrame for quantum results\n",
    "pd.DataFrame(data={\"date\": date_array, \"threshold\": threshold_array, \"density\": density_array,\n",
    "                \"coloring\": coloring_array, \"num_colors\": num_colors_array, \n",
    "                \"valid_coloring\": valid_coloring_array}).to_csv(\"grphcolor_quant_%s_res.csv\" % (dataset))"
   ]
  },
  {
   "cell_type": "code",
   "execution_count": 33,
   "metadata": {
    "code_folding": []
   },
   "outputs": [],
   "source": [
    "# Run classical graph coloring algm on the matrices that ran successfully above\n",
    "from networkx.algorithms.coloring import greedy_color\n",
    "\n",
    "coloring_array = []\n",
    "valid_coloring_array = []\n",
    "num_colors_array = []\n",
    "density_array = []\n",
    "\n",
    "for i in range(len(threshold_array)):\n",
    "    \n",
    "    # get threshold and matrix idx \n",
    "    thresh = threshold_array[i]\n",
    "    idx = dates.tolist().index(date_array[i])\n",
    "    \n",
    "    corr_mat = corr_tensor[idx, :, :].copy()\n",
    "    corr_mat[(corr_mat > -1*thresh) & (corr_mat < thresh)] = 0\n",
    "\n",
    "    G, density = make_graph(corr_mat, nodes, 'corr')\n",
    "\n",
    "    try:\n",
    "        coloring = greedy_color(G, strategy='independent_set')\n",
    "        valid_coloring = dnx.is_vertex_coloring(G, coloring)\n",
    "    except Exception as err:\n",
    "        print(\"Error on matrix %d with threshold %f\" % (j*5, i))\n",
    "    else:\n",
    "        num_colors = np.max(list(coloring.values())) + 1\n",
    "\n",
    "        coloring_array.append(coloring)\n",
    "        num_colors_array.append(num_colors)\n",
    "        valid_coloring_array.append(valid_coloring)\n",
    "\n",
    "        density_array.append(density)\n"
   ]
  },
  {
   "cell_type": "code",
   "execution_count": 34,
   "metadata": {},
   "outputs": [],
   "source": [
    "assert len(coloring_array) == len(density_array) ==  len(num_colors_array) == len(valid_coloring_array)"
   ]
  },
  {
   "cell_type": "code",
   "execution_count": 35,
   "metadata": {},
   "outputs": [
    {
     "data": {
      "text/plain": [
       "50"
      ]
     },
     "execution_count": 35,
     "metadata": {},
     "output_type": "execute_result"
    }
   ],
   "source": [
    "len(coloring_array)"
   ]
  },
  {
   "cell_type": "code",
   "execution_count": 36,
   "metadata": {},
   "outputs": [],
   "source": [
    "# Create Pandas DataFrame for classical results\n",
    "pd.DataFrame(data={\"date\": date_array, \"threshold\": threshold_array, \"density\": density_array,\n",
    "                \"coloring\": coloring_array, \"num_colors\": num_colors_array, \n",
    "                \"valid_coloring\": valid_coloring_array}).to_csv(\"grphcolor_class_%s_res.csv\" % (dataset))"
   ]
  },
  {
   "cell_type": "code",
   "execution_count": 84,
   "metadata": {},
   "outputs": [],
   "source": [
    "# Compare classical vs quantum\n",
    "quant_res_df = pd.read_csv(\"grphcolor_quant_%s_res.csv\" % (dataset))\n",
    "class_res_df = pd.read_csv(\"grphcolor_class_%s_res.csv\" % (dataset))"
   ]
  },
  {
   "cell_type": "code",
   "execution_count": 89,
   "metadata": {},
   "outputs": [],
   "source": [
    "assert quant_res_df[\"date\"].equals(class_res_df[\"date\"])"
   ]
  },
  {
   "cell_type": "code",
   "execution_count": 113,
   "metadata": {},
   "outputs": [
    {
     "data": {
      "text/plain": [
       "array([0.3, 0.4, 0.5, 0.6, 0.7, 0.8, 0.9])"
      ]
     },
     "execution_count": 113,
     "metadata": {},
     "output_type": "execute_result"
    }
   ],
   "source": [
    "quant_res_df[\"threshold\"].unique()"
   ]
  },
  {
   "cell_type": "code",
   "execution_count": 111,
   "metadata": {},
   "outputs": [
    {
     "data": {
      "text/plain": [
       "0"
      ]
     },
     "execution_count": 111,
     "metadata": {},
     "output_type": "execute_result"
    }
   ],
   "source": [
    "quant_res_df.loc[quant_res_df['threshold'] == 0.6].shape[0]"
   ]
  },
  {
   "cell_type": "code",
   "execution_count": 112,
   "metadata": {},
   "outputs": [
    {
     "name": "stdout",
     "output_type": "stream",
     "text": [
      "9\n",
      "14\n",
      "14\n",
      "12\n",
      "18\n",
      "16\n",
      "17\n"
     ]
    }
   ],
   "source": [
    "for value in quant_res_df[\"threshold\"].unique():\n",
    "    count = quant_res_df.loc[quant_res_df['threshold'] == value].shape[0]\n",
    "    print(count)"
   ]
  },
  {
   "cell_type": "code",
   "execution_count": 103,
   "metadata": {},
   "outputs": [
    {
     "data": {
      "text/html": [
       "<div>\n",
       "<style scoped>\n",
       "    .dataframe tbody tr th:only-of-type {\n",
       "        vertical-align: middle;\n",
       "    }\n",
       "\n",
       "    .dataframe tbody tr th {\n",
       "        vertical-align: top;\n",
       "    }\n",
       "\n",
       "    .dataframe thead th {\n",
       "        text-align: right;\n",
       "    }\n",
       "</style>\n",
       "<table border=\"1\" class=\"dataframe\">\n",
       "  <thead>\n",
       "    <tr style=\"text-align: right;\">\n",
       "      <th></th>\n",
       "      <th>Unnamed: 0</th>\n",
       "      <th>date</th>\n",
       "      <th>threshold</th>\n",
       "      <th>density</th>\n",
       "      <th>coloring</th>\n",
       "      <th>num_colors</th>\n",
       "      <th>valid_coloring</th>\n",
       "    </tr>\n",
       "  </thead>\n",
       "  <tbody>\n",
       "  </tbody>\n",
       "</table>\n",
       "</div>"
      ],
      "text/plain": [
       "Empty DataFrame\n",
       "Columns: [Unnamed: 0, date, threshold, density, coloring, num_colors, valid_coloring]\n",
       "Index: []"
      ]
     },
     "execution_count": 103,
     "metadata": {},
     "output_type": "execute_result"
    }
   ],
   "source": [
    "quant_res_df.loc[quant_res_df[\"threshold\"] == 0.8]"
   ]
  },
  {
   "cell_type": "code",
   "execution_count": 98,
   "metadata": {},
   "outputs": [],
   "source": [
    "quant_res = quant_res_df.loc[quant_res_df[\"threshold\"] == 0.8]\n",
    "class_res = class_res_df.loc[class_res_df[\"threshold\"] == 0.8]"
   ]
  },
  {
   "cell_type": "code",
   "execution_count": 99,
   "metadata": {},
   "outputs": [
    {
     "data": {
      "text/plain": [
       "(0, 7)"
      ]
     },
     "execution_count": 99,
     "metadata": {},
     "output_type": "execute_result"
    }
   ],
   "source": [
    "class_res.shape"
   ]
  },
  {
   "cell_type": "code",
   "execution_count": 81,
   "metadata": {},
   "outputs": [
    {
     "data": {
      "text/plain": [
       "[<matplotlib.lines.Line2D at 0x7f3c946134a8>]"
      ]
     },
     "execution_count": 81,
     "metadata": {},
     "output_type": "execute_result"
    },
    {
     "data": {
      "image/png": "[encoded data removed]",
      "text/plain": [
       "<Figure size 432x288 with 1 Axes>"
      ]
     },
     "metadata": {
      "needs_background": "light"
     },
     "output_type": "display_data"
    }
   ],
   "source": [
    "import matplotlib.pyplot as plt\n",
    "\n",
    "plt.figure(1)\n",
    "plt.plot(quant_res[\"date\"], quant_res[\"num_colors\"], 'r--')\n",
    "plt.plot(class_res[\"date\"], class_res['num_colors'], 'b--')"
   ]
  },
  {
   "cell_type": "code",
   "execution_count": 82,
   "metadata": {},
   "outputs": [
    {
     "data": {
      "text/plain": [
       "[<matplotlib.lines.Line2D at 0x7f3c945dfa20>]"
      ]
     },
     "execution_count": 82,
     "metadata": {},
     "output_type": "execute_result"
    },
    {
     "data": {
      "image/png": "[encoded data removed]",
      "text/plain": [
       "<Figure size 432x288 with 1 Axes>"
      ]
     },
     "metadata": {
      "needs_background": "light"
     },
     "output_type": "display_data"
    }
   ],
   "source": [
    "plt.figure(2)\n",
    "plt.plot(quant_res[\"date\"], quant_res[\"density\"], 'r')\n",
    "plt.plot(class_res[\"date\"], class_res[\"density\"], 'b')"
   ]
  },
  {
   "cell_type": "code",
   "execution_count": 83,
   "metadata": {},
   "outputs": [
    {
     "data": {
      "text/html": [
       "<div>\n",
       "<style scoped>\n",
       "    .dataframe tbody tr th:only-of-type {\n",
       "        vertical-align: middle;\n",
       "    }\n",
       "\n",
       "    .dataframe tbody tr th {\n",
       "        vertical-align: top;\n",
       "    }\n",
       "\n",
       "    .dataframe thead th {\n",
       "        text-align: right;\n",
       "    }\n",
       "</style>\n",
       "<table border=\"1\" class=\"dataframe\">\n",
       "  <thead>\n",
       "    <tr style=\"text-align: right;\">\n",
       "      <th></th>\n",
       "      <th>Unnamed: 0</th>\n",
       "      <th>date</th>\n",
       "      <th>threshold</th>\n",
       "      <th>density</th>\n",
       "      <th>coloring</th>\n",
       "      <th>num_colors</th>\n",
       "      <th>valid_coloring</th>\n",
       "    </tr>\n",
       "  </thead>\n",
       "  <tbody>\n",
       "  </tbody>\n",
       "</table>\n",
       "</div>"
      ],
      "text/plain": [
       "Empty DataFrame\n",
       "Columns: [Unnamed: 0, date, threshold, density, coloring, num_colors, valid_coloring]\n",
       "Index: []"
      ]
     },
     "execution_count": 83,
     "metadata": {},
     "output_type": "execute_result"
    }
   ],
   "source": [
    "quant_res"
   ]
  },
  {
   "cell_type": "code",
   "execution_count": 75,
   "metadata": {},
   "outputs": [
    {
     "ename": "IndexError",
     "evalue": "index out of bounds",
     "output_type": "error",
     "traceback": [
      "\u001b[0;31m---------------------------------------------------------------------------\u001b[0m",
      "\u001b[0;31mKeyError\u001b[0m                                  Traceback (most recent call last)",
      "\u001b[0;32m~/Projects/quantcomp/ocean/lib/python3.6/site-packages/pandas/core/indexes/base.py\u001b[0m in \u001b[0;36mget_value\u001b[0;34m(self, series, key)\u001b[0m\n\u001b[1;32m   3117\u001b[0m             return self._engine.get_value(s, k,\n\u001b[0;32m-> 3118\u001b[0;31m                                           tz=getattr(series.dtype, 'tz', None))\n\u001b[0m\u001b[1;32m   3119\u001b[0m         \u001b[0;32mexcept\u001b[0m \u001b[0mKeyError\u001b[0m \u001b[0;32mas\u001b[0m \u001b[0me1\u001b[0m\u001b[0;34m:\u001b[0m\u001b[0;34m\u001b[0m\u001b[0;34m\u001b[0m\u001b[0m\n",
      "\u001b[0;32mpandas/_libs/index.pyx\u001b[0m in \u001b[0;36mpandas._libs.index.IndexEngine.get_value\u001b[0;34m()\u001b[0m\n",
      "\u001b[0;32mpandas/_libs/index.pyx\u001b[0m in \u001b[0;36mpandas._libs.index.IndexEngine.get_value\u001b[0;34m()\u001b[0m\n",
      "\u001b[0;32mpandas/_libs/index.pyx\u001b[0m in \u001b[0;36mpandas._libs.index.IndexEngine.get_loc\u001b[0;34m()\u001b[0m\n",
      "\u001b[0;32mpandas/_libs/hashtable_class_helper.pxi\u001b[0m in \u001b[0;36mpandas._libs.hashtable.Int64HashTable.get_item\u001b[0;34m()\u001b[0m\n",
      "\u001b[0;32mpandas/_libs/hashtable_class_helper.pxi\u001b[0m in \u001b[0;36mpandas._libs.hashtable.Int64HashTable.get_item\u001b[0;34m()\u001b[0m\n",
      "\u001b[0;31mKeyError\u001b[0m: 42",
      "\nDuring handling of the above exception, another exception occurred:\n",
      "\u001b[0;31mIndexError\u001b[0m                                Traceback (most recent call last)",
      "\u001b[0;32m<ipython-input-75-b15962d4dbdc>\u001b[0m in \u001b[0;36m<module>\u001b[0;34m\u001b[0m\n\u001b[1;32m      1\u001b[0m \u001b[0mfig\u001b[0m\u001b[0;34m,\u001b[0m \u001b[0max\u001b[0m \u001b[0;34m=\u001b[0m \u001b[0mplt\u001b[0m\u001b[0;34m.\u001b[0m\u001b[0msubplots\u001b[0m\u001b[0;34m(\u001b[0m\u001b[0mfigsize\u001b[0m\u001b[0;34m=\u001b[0m\u001b[0;34m(\u001b[0m\u001b[0;36m15\u001b[0m\u001b[0;34m,\u001b[0m \u001b[0;36m10\u001b[0m\u001b[0;34m)\u001b[0m\u001b[0;34m)\u001b[0m\u001b[0;34m\u001b[0m\u001b[0;34m\u001b[0m\u001b[0m\n\u001b[1;32m      2\u001b[0m \u001b[0;34m\u001b[0m\u001b[0m\n\u001b[0;32m----> 3\u001b[0;31m \u001b[0mdate\u001b[0m \u001b[0;34m=\u001b[0m \u001b[0mquant_res\u001b[0m\u001b[0;34m[\u001b[0m\u001b[0;34m\"date\"\u001b[0m\u001b[0;34m]\u001b[0m\u001b[0;34m[\u001b[0m\u001b[0;36m42\u001b[0m\u001b[0;34m]\u001b[0m\u001b[0;34m\u001b[0m\u001b[0;34m\u001b[0m\u001b[0m\n\u001b[0m\u001b[1;32m      4\u001b[0m \u001b[0midx\u001b[0m \u001b[0;34m=\u001b[0m \u001b[0mdates\u001b[0m\u001b[0;34m.\u001b[0m\u001b[0mtolist\u001b[0m\u001b[0;34m(\u001b[0m\u001b[0;34m)\u001b[0m\u001b[0;34m.\u001b[0m\u001b[0mindex\u001b[0m\u001b[0;34m(\u001b[0m\u001b[0mdate\u001b[0m\u001b[0;34m)\u001b[0m\u001b[0;34m\u001b[0m\u001b[0;34m\u001b[0m\u001b[0m\n\u001b[1;32m      5\u001b[0m \u001b[0;34m\u001b[0m\u001b[0m\n",
      "\u001b[0;32m~/Projects/quantcomp/ocean/lib/python3.6/site-packages/pandas/core/series.py\u001b[0m in \u001b[0;36m__getitem__\u001b[0;34m(self, key)\u001b[0m\n\u001b[1;32m    765\u001b[0m         \u001b[0mkey\u001b[0m \u001b[0;34m=\u001b[0m \u001b[0mcom\u001b[0m\u001b[0;34m.\u001b[0m\u001b[0m_apply_if_callable\u001b[0m\u001b[0;34m(\u001b[0m\u001b[0mkey\u001b[0m\u001b[0;34m,\u001b[0m \u001b[0mself\u001b[0m\u001b[0;34m)\u001b[0m\u001b[0;34m\u001b[0m\u001b[0;34m\u001b[0m\u001b[0m\n\u001b[1;32m    766\u001b[0m         \u001b[0;32mtry\u001b[0m\u001b[0;34m:\u001b[0m\u001b[0;34m\u001b[0m\u001b[0;34m\u001b[0m\u001b[0m\n\u001b[0;32m--> 767\u001b[0;31m             \u001b[0mresult\u001b[0m \u001b[0;34m=\u001b[0m \u001b[0mself\u001b[0m\u001b[0;34m.\u001b[0m\u001b[0mindex\u001b[0m\u001b[0;34m.\u001b[0m\u001b[0mget_value\u001b[0m\u001b[0;34m(\u001b[0m\u001b[0mself\u001b[0m\u001b[0;34m,\u001b[0m \u001b[0mkey\u001b[0m\u001b[0;34m)\u001b[0m\u001b[0;34m\u001b[0m\u001b[0;34m\u001b[0m\u001b[0m\n\u001b[0m\u001b[1;32m    768\u001b[0m \u001b[0;34m\u001b[0m\u001b[0m\n\u001b[1;32m    769\u001b[0m             \u001b[0;32mif\u001b[0m \u001b[0;32mnot\u001b[0m \u001b[0mis_scalar\u001b[0m\u001b[0;34m(\u001b[0m\u001b[0mresult\u001b[0m\u001b[0;34m)\u001b[0m\u001b[0;34m:\u001b[0m\u001b[0;34m\u001b[0m\u001b[0;34m\u001b[0m\u001b[0m\n",
      "\u001b[0;32m~/Projects/quantcomp/ocean/lib/python3.6/site-packages/pandas/core/indexes/base.py\u001b[0m in \u001b[0;36mget_value\u001b[0;34m(self, series, key)\u001b[0m\n\u001b[1;32m   3122\u001b[0m \u001b[0;34m\u001b[0m\u001b[0m\n\u001b[1;32m   3123\u001b[0m             \u001b[0;32mtry\u001b[0m\u001b[0;34m:\u001b[0m\u001b[0;34m\u001b[0m\u001b[0;34m\u001b[0m\u001b[0m\n\u001b[0;32m-> 3124\u001b[0;31m                 \u001b[0;32mreturn\u001b[0m \u001b[0mlibindex\u001b[0m\u001b[0;34m.\u001b[0m\u001b[0mget_value_box\u001b[0m\u001b[0;34m(\u001b[0m\u001b[0ms\u001b[0m\u001b[0;34m,\u001b[0m \u001b[0mkey\u001b[0m\u001b[0;34m)\u001b[0m\u001b[0;34m\u001b[0m\u001b[0;34m\u001b[0m\u001b[0m\n\u001b[0m\u001b[1;32m   3125\u001b[0m             \u001b[0;32mexcept\u001b[0m \u001b[0mIndexError\u001b[0m\u001b[0;34m:\u001b[0m\u001b[0;34m\u001b[0m\u001b[0;34m\u001b[0m\u001b[0m\n\u001b[1;32m   3126\u001b[0m                 \u001b[0;32mraise\u001b[0m\u001b[0;34m\u001b[0m\u001b[0;34m\u001b[0m\u001b[0m\n",
      "\u001b[0;32mpandas/_libs/index.pyx\u001b[0m in \u001b[0;36mpandas._libs.index.get_value_box\u001b[0;34m()\u001b[0m\n",
      "\u001b[0;32mpandas/_libs/index.pyx\u001b[0m in \u001b[0;36mpandas._libs.index.get_value_box\u001b[0;34m()\u001b[0m\n",
      "\u001b[0;31mIndexError\u001b[0m: index out of bounds"
     ]
    },
    {
     "data": {
      "image/png": "[encoded data removed]",
      "text/plain": [
       "<Figure size 1080x720 with 1 Axes>"
      ]
     },
     "metadata": {
      "needs_background": "light"
     },
     "output_type": "display_data"
    }
   ],
   "source": [
    "fig, ax = plt.subplots(figsize=(15, 10))\n",
    "\n",
    "date = quant_res[\"date\"][42]\n",
    "idx = dates.tolist().index(date)\n",
    "\n",
    "corr_mat = corr_tensor[idx, :, :].copy()\n",
    "corr_mat[(corr_mat > -1*thresh) & (corr_mat < thresh)] = 0\n",
    "G, density = make_graph(corr_mat, nodes, 'corr')\n",
    "\n",
    "nx.draw_networkx(G, pos=nx.spring_layout(G), font_size=14, node_color='w', ax = ax)"
   ]
  },
  {
   "cell_type": "code",
   "execution_count": null,
   "metadata": {},
   "outputs": [],
   "source": []
  }
 ],
 "metadata": {
  "kernelspec": {
   "display_name": "dwave_ocean",
   "language": "python",
   "name": "dwave_ocean"
  },
  "language_info": {
   "codemirror_mode": {
    "name": "ipython",
    "version": 3
   },
   "file_extension": ".py",
   "mimetype": "text/x-python",
   "name": "python",
   "nbconvert_exporter": "python",
   "pygments_lexer": "ipython3",
   "version": "3.5.2"
  }
 },
 "nbformat": 4,
 "nbformat_minor": 2
}
