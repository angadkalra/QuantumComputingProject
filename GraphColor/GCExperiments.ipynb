{
 "cells": [
  {
   "cell_type": "code",
   "execution_count": 45,
   "metadata": {},
   "outputs": [],
   "source": [
    "import sys, os\n",
    "import numpy as np\n",
    "import pandas as pd\n",
    "import matplotlib.pyplot as plt\n",
    "\n",
    "# DWave Credentials\n",
    "dwave_solver = \"DW_2000Q_2_1\"\n",
    "api_key = 'DEV-3142f58be13a0aacd44657b15b8fb9832ba3bdac'\n",
    "\n",
    "from dwave.system.samplers import DWaveSampler\n",
    "from dwave.system.composites import EmbeddingComposite\n",
    "\n",
    "import dwave_networkx as dnx\n",
    "\n",
    "### Use NetworkX graphic package to create a signed network\n",
    "import networkx as nx\n",
    "\n",
    "# Select a D-Wave system and handle mapping from problem graph to sampler graph\n",
    "sampler = EmbeddingComposite(DWaveSampler(solver=dwave_solver, token=api_key))"
   ]
  },
  {
   "cell_type": "code",
   "execution_count": 49,
   "metadata": {},
   "outputs": [],
   "source": [
    "# Import data\n",
    "\n",
    "dataset = 'sectors' # values: 'asset_class','ftse','sectors','sp100'\n",
    "\n",
    "corr_tensor = np.load('../Data/%s/%s_corr.npy' % (dataset, dataset))\n",
    "dates = np.load('../Data/%s/%s_dates.npy' % (dataset, dataset))\n",
    "nodes = np.load('../Data/%s/%s_nodes.npy' % (dataset, dataset))\n",
    "nodes_descr = np.load('../Data/%s/%s_nodes_descr.npy' % (dataset, dataset))\n",
    "\n",
    "num_examples = corr_tensor.shape[0]\n",
    "dim = corr_tensor.shape[1]"
   ]
  },
  {
   "cell_type": "code",
   "execution_count": 47,
   "metadata": {},
   "outputs": [
    {
     "name": "stdout",
     "output_type": "stream",
     "text": [
      "num examples: 120, matrix dim: 21\n"
     ]
    }
   ],
   "source": [
    "print(\"num examples: %d, matrix dim: %d\" % (num_examples, dim))"
   ]
  },
  {
   "cell_type": "code",
   "execution_count": 48,
   "metadata": {
    "code_folding": [
     2,
     35,
     40
    ]
   },
   "outputs": [],
   "source": [
    "# Helper Functions\n",
    "\n",
    "def make_graph(corr_mat, node_labels, graph_type):\n",
    "\n",
    "    G = nx.Graph()\n",
    "    G.add_nodes_from(node_labels)\n",
    "    dim = corr_mat.shape[0]\n",
    "\n",
    "    if not dim == len(node_labels):\n",
    "        raise ValueError('number node labels not = corr matrix dimensions')\n",
    "\n",
    "    if graph_type=='signed':\n",
    "        for i in range(dim):\n",
    "            for j in range(i+1, dim):\n",
    "                if corr_mat[i,j] < 0:\n",
    "                    G.add_edge(node_labels[i], node_labels[j], sign=-1)\n",
    "                elif corr_mat[i,j] > 0:\n",
    "                    G.add_edge(node_labels[i], node_labels[j], sign=1)\n",
    "    \n",
    "    if graph_type=='corr':\n",
    "        for i in range(dim):\n",
    "            for j in range(i+1, dim):\n",
    "                if corr_mat[i,j] != 0.000:\n",
    "                    G.add_edge(node_labels[i], node_labels[j])\n",
    "    \n",
    "    if graph_type=='uncorr':\n",
    "        for i in range(dim):\n",
    "            for j in range(i+1, dim):\n",
    "                if corr_mat[i,j] == 0.000:\n",
    "                    G.add_edge(node_labels[i], node_labels[j])\n",
    "    \n",
    "    density = (2*G.number_of_edges())/(G.number_of_nodes()*(G.number_of_nodes() - 1))\n",
    "                \n",
    "    return G, density\n",
    "\n",
    "def get_max_deg(G):\n",
    "    degree_sequence = sorted([d for n, d in G.degree()], reverse=True)\n",
    "\n",
    "    return max(degree_sequence)\n",
    "\n",
    "def coloring_score(G, coloring):\n",
    "    count = 0\n",
    "    for e in G.edges():\n",
    "        v1, v2 = e\n",
    "        if coloring[v1] == coloring[v2]:\n",
    "            count += 1\n",
    "        \n",
    "        return count/G.number_of_edges()"
   ]
  },
  {
   "cell_type": "code",
   "execution_count": 30,
   "metadata": {},
   "outputs": [],
   "source": [
    "# Test to see if DW comp. is working\n",
    "corr_mat = corr_tensor[int(num_examples/2), :, :]\n",
    "        \n",
    "corr_mat[(corr_mat > -1*0.1) & (corr_mat < 0.1)] = 0\n",
    "G, density = make_graph(corr_mat, nodes, 'corr')\n",
    "\n",
    "coloring = dnx.min_vertex_coloring(G, sampler)\n",
    "num_colors = np.max(list(coloring.values()))"
   ]
  },
  {
   "cell_type": "code",
   "execution_count": 31,
   "metadata": {},
   "outputs": [],
   "source": [
    "assert num_colors > 0 and num_colors < get_max_deg(G)"
   ]
  },
  {
   "cell_type": "code",
   "execution_count": 32,
   "metadata": {},
   "outputs": [
    {
     "data": {
      "text/plain": [
       "True"
      ]
     },
     "execution_count": 32,
     "metadata": {},
     "output_type": "execute_result"
    }
   ],
   "source": [
    "dnx.is_vertex_coloring(G, coloring)"
   ]
  },
  {
   "cell_type": "code",
   "execution_count": 33,
   "metadata": {},
   "outputs": [
    {
     "data": {
      "text/plain": [
       "0.0"
      ]
     },
     "execution_count": 33,
     "metadata": {},
     "output_type": "execute_result"
    }
   ],
   "source": [
    "coloring_score(G, coloring)"
   ]
  },
  {
   "cell_type": "code",
   "execution_count": 37,
   "metadata": {
    "code_folding": []
   },
   "outputs": [],
   "source": [
    "# Plot graph density for each threshold. \n",
    "\n",
    "# HAS BUG DON'T RUN\n",
    "\n",
    "# thresh_array = []\n",
    "# density_distr = []\n",
    "\n",
    "# for i in np.arange(0.1, 1, 0.1):\n",
    "#     density_array = []\n",
    "#     for j in range(1, int(num_examples/5)):\n",
    "#         corr_mat = corr_tensor[j*5, :, :]\n",
    "#         corr_mat[(corr_mat > -1*i) & (corr_mat < i)] = 0\n",
    "#         G, density = make_graph(corr_mat, nodes, 'corr')\n",
    "        \n",
    "#         density_array.append(density)\n",
    "    \n",
    "#     density_distr.append(density_array)"
   ]
  },
  {
   "cell_type": "code",
   "execution_count": 10,
   "metadata": {},
   "outputs": [
    {
     "data": {
      "image/png": "[encoded data removed]",
      "text/plain": [
       "<Figure size 432x288 with 1 Axes>"
      ]
     },
     "metadata": {
      "needs_background": "light"
     },
     "output_type": "display_data"
    }
   ],
   "source": [
    "# plt.boxplot(density_distr)\n",
    "# plt.ylabel(\"Graph Density\")\n",
    "# plt.xlabel(\"Correlation Threshold (10^-1)\")\n",
    "# plt.title(\"%s Density vs Threshold\" % (dataset))\n",
    "# plt.show()"
   ]
  },
  {
   "cell_type": "code",
   "execution_count": null,
   "metadata": {
    "scrolled": true
   },
   "outputs": [],
   "source": [
    "# Create graph for each date and calculate best coloring. \n",
    "\n",
    "coloring_array = []\n",
    "valid_coloring_array = []\n",
    "num_colors_array = []\n",
    "date_array = []\n",
    "density_array = []\n",
    "threshold_array = []\n",
    "\n",
    "count = 0\n",
    "for i in np.arange(0.4, 0.8, 0.1):\n",
    "    for j in range(1, int(num_examples/5)):\n",
    "        \n",
    "        corr_mat = corr_tensor[j*5, :, :].copy()\n",
    "        corr_mat[(corr_mat > -1*i) & (corr_mat < i)] = 0\n",
    "        \n",
    "        G, density = make_graph(corr_mat, nodes, 'corr')\n",
    "        \n",
    "        count += 1\n",
    "        if count % 10 == 0: \n",
    "            print(\"count: %d\" % (count))\n",
    "            \n",
    "        try:\n",
    "            coloring = dnx.min_vertex_coloring(G, sampler)\n",
    "            valid_coloring = dnx.is_vertex_coloring(G, coloring)\n",
    "        \n",
    "            while not valid_coloring:\n",
    "                coloring = dnx.min_vertex_coloring(G, sampler)\n",
    "                valid_coloring = dnx.is_vertex_coloring(G, coloring)\n",
    "                \n",
    "        except Exception as err:\n",
    "            print(\"Error on matrix %d with threshold %f\" % (j*5, i))\n",
    "        else:\n",
    "            num_colors = np.max(list(coloring.values()))\n",
    "            \n",
    "            coloring_array.append(coloring)\n",
    "            num_colors_array.append(num_colors)\n",
    "            valid_coloring_array.append(valid_coloring)\n",
    "            \n",
    "            threshold_array.append(i)\n",
    "            density_array.append(density)\n",
    "            date_array.append(dates[j*5])\n",
    "        "
   ]
  },
  {
   "cell_type": "code",
   "execution_count": 56,
   "metadata": {},
   "outputs": [],
   "source": [
    "assert len(coloring_array) == len(date_array) == len(density_array) == len(threshold_array) == len(num_colors_array)"
   ]
  },
  {
   "cell_type": "code",
   "execution_count": 57,
   "metadata": {},
   "outputs": [
    {
     "data": {
      "text/plain": [
       "51"
      ]
     },
     "execution_count": 57,
     "metadata": {},
     "output_type": "execute_result"
    }
   ],
   "source": [
    "len(date_array)"
   ]
  },
  {
   "cell_type": "code",
   "execution_count": 58,
   "metadata": {},
   "outputs": [],
   "source": [
    "# Create Pandas DataFrame for quantum results\n",
    "pd.DataFrame(data={\"date\": date_array, \"threshold\": threshold_array, \"density\": density_array,\n",
    "                \"coloring\": coloring_array, \"num_colors\": num_colors_array, \n",
    "                \"valid_coloring\": valid_coloring_array}).to_csv(\"grphcolor_%s_res.csv\" % (dataset))"
   ]
  },
  {
   "cell_type": "code",
   "execution_count": 85,
   "metadata": {},
   "outputs": [],
   "source": [
    "# Run classical graph coloring algm on the matrices that ran successfully above\n",
    "from networkx.algorithms.coloring import greedy_color\n",
    "\n",
    "coloring_array = []\n",
    "valid_coloring_array = []\n",
    "num_colors_array = []\n",
    "density_array = []\n",
    "\n",
    "for i in range(len(threshold_array)):\n",
    "    \n",
    "    # get threshold and matrix idx \n",
    "    thresh = threshold_array[i]\n",
    "    idx = dates.tolist().index(date_array[i])\n",
    "    \n",
    "    corr_mat = corr_tensor[idx, :, :].copy()\n",
    "    corr_mat[(corr_mat > -1*thresh) & (corr_mat < thresh)] = 0\n",
    "\n",
    "    G, density = make_graph(corr_mat, nodes, 'corr')\n",
    "\n",
    "    try:\n",
    "        coloring = greedy_color(G, strategy='independent_set')\n",
    "        valid_coloring = dnx.is_vertex_coloring(G, coloring)\n",
    "    except Exception as err:\n",
    "        print(\"Error on matrix %d with threshold %f\" % (j*5, i))\n",
    "    else:\n",
    "        num_colors = np.max(list(coloring.values()))\n",
    "\n",
    "        coloring_array.append(coloring)\n",
    "        num_colors_array.append(num_colors)\n",
    "        valid_coloring_array.append(valid_coloring)\n",
    "\n",
    "        density_array.append(density)\n"
   ]
  },
  {
   "cell_type": "code",
   "execution_count": 86,
   "metadata": {},
   "outputs": [],
   "source": [
    "assert len(coloring_array) == len(density_array) ==  len(num_colors_array) == len(valid_coloring_array)"
   ]
  },
  {
   "cell_type": "code",
   "execution_count": 87,
   "metadata": {},
   "outputs": [],
   "source": [
    "# Create Pandas DataFrame for classical results\n",
    "pd.DataFrame(data={\"date\": date_array, \"threshold\": threshold_array, \"density\": density_array,\n",
    "                \"coloring\": coloring_array, \"num_colors\": num_colors_array, \n",
    "                \"valid_coloring\": valid_coloring_array}).to_csv(\"grphcolor_%s_class_res.csv\" % (dataset))"
   ]
  },
  {
   "cell_type": "code",
   "execution_count": 114,
   "metadata": {},
   "outputs": [],
   "source": [
    "# Compare classical vs quantum\n",
    "quant_res_df = pd.read_csv(\"grphcolor_%s_res.csv\" % (dataset))\n",
    "class_res_df = pd.read_csv(\"grphcolor_%s_class_res.csv\" % (dataset))"
   ]
  },
  {
   "cell_type": "code",
   "execution_count": 115,
   "metadata": {},
   "outputs": [],
   "source": [
    "assert quant_res_df[\"date\"].equals(class_res_df[\"date\"])"
   ]
  },
  {
   "cell_type": "code",
   "execution_count": 117,
   "metadata": {},
   "outputs": [],
   "source": [
    "quant_res = quant_res_df.loc[quant_res_df[\"threshold\"] == 0.7].copy()\n",
    "class_res = class_res_df.loc[class_res_df[\"threshold\"] == 0.7].copy()"
   ]
  },
  {
   "cell_type": "code",
   "execution_count": 118,
   "metadata": {},
   "outputs": [
    {
     "data": {
      "text/plain": [
       "[<matplotlib.lines.Line2D at 0x7ffa33961e48>]"
      ]
     },
     "execution_count": 118,
     "metadata": {},
     "output_type": "execute_result"
    },
    {
     "data": {
      "image/png": "[encoded data removed]",
      "text/plain": [
       "<Figure size 432x288 with 1 Axes>"
      ]
     },
     "metadata": {
      "needs_background": "light"
     },
     "output_type": "display_data"
    }
   ],
   "source": [
    "import matplotlib.pyplot as plt\n",
    "\n",
    "plt.figure(1)\n",
    "plt.plot(quant_res[\"date\"], quant_res[\"num_colors\"], 'r--')\n",
    "plt.plot(class_res[\"date\"], class_res['num_colors'], 'b--')"
   ]
  },
  {
   "cell_type": "code",
   "execution_count": 119,
   "metadata": {},
   "outputs": [
    {
     "data": {
      "text/plain": [
       "[<matplotlib.lines.Line2D at 0x7ffa7048ab70>]"
      ]
     },
     "execution_count": 119,
     "metadata": {},
     "output_type": "execute_result"
    },
    {
     "data": {
      "image/png": "[encoded data removed]",
      "text/plain": [
       "<Figure size 432x288 with 1 Axes>"
      ]
     },
     "metadata": {
      "needs_background": "light"
     },
     "output_type": "display_data"
    }
   ],
   "source": [
    "plt.figure(2)\n",
    "plt.plot(quant_res[\"date\"], quant_res[\"density\"], 'r--')\n",
    "plt.plot(class_res[\"date\"], class_res[\"density\"], 'b--')"
   ]
  },
  {
   "cell_type": "code",
   "execution_count": 122,
   "metadata": {},
   "outputs": [
    {
     "data": {
      "text/html": [
       "<div>\n",
       "<style scoped>\n",
       "    .dataframe tbody tr th:only-of-type {\n",
       "        vertical-align: middle;\n",
       "    }\n",
       "\n",
       "    .dataframe tbody tr th {\n",
       "        vertical-align: top;\n",
       "    }\n",
       "\n",
       "    .dataframe thead th {\n",
       "        text-align: right;\n",
       "    }\n",
       "</style>\n",
       "<table border=\"1\" class=\"dataframe\">\n",
       "  <thead>\n",
       "    <tr style=\"text-align: right;\">\n",
       "      <th></th>\n",
       "      <th>Unnamed: 0</th>\n",
       "      <th>date</th>\n",
       "      <th>threshold</th>\n",
       "      <th>density</th>\n",
       "      <th>coloring</th>\n",
       "      <th>num_colors</th>\n",
       "      <th>valid_coloring</th>\n",
       "    </tr>\n",
       "  </thead>\n",
       "  <tbody>\n",
       "    <tr>\n",
       "      <th>36</th>\n",
       "      <td>36</td>\n",
       "      <td>2008-06-30</td>\n",
       "      <td>0.7</td>\n",
       "      <td>0.057143</td>\n",
       "      <td>{'ADM': 0, 'IHG': 0, 'AHT': 1, 'CCL': 2, 'CNA'...</td>\n",
       "      <td>3</td>\n",
       "      <td>True</td>\n",
       "    </tr>\n",
       "    <tr>\n",
       "      <th>37</th>\n",
       "      <td>37</td>\n",
       "      <td>2008-11-30</td>\n",
       "      <td>0.7</td>\n",
       "      <td>0.123810</td>\n",
       "      <td>{'ADM': 0, 'CRH': 1, 'PRU': 2, 'AZN': 1, 'CCL'...</td>\n",
       "      <td>4</td>\n",
       "      <td>True</td>\n",
       "    </tr>\n",
       "    <tr>\n",
       "      <th>38</th>\n",
       "      <td>38</td>\n",
       "      <td>2009-04-30</td>\n",
       "      <td>0.7</td>\n",
       "      <td>0.061905</td>\n",
       "      <td>{'ADM': 0, 'AHT': 0, 'AZN': 0, 'IHG': 0, 'CCL'...</td>\n",
       "      <td>2</td>\n",
       "      <td>True</td>\n",
       "    </tr>\n",
       "    <tr>\n",
       "      <th>39</th>\n",
       "      <td>39</td>\n",
       "      <td>2009-09-30</td>\n",
       "      <td>0.7</td>\n",
       "      <td>0.057143</td>\n",
       "      <td>{'ADM': 0, 'IHG': 0, 'RIO': 1, 'CCL': 1, 'CNA'...</td>\n",
       "      <td>3</td>\n",
       "      <td>True</td>\n",
       "    </tr>\n",
       "    <tr>\n",
       "      <th>40</th>\n",
       "      <td>40</td>\n",
       "      <td>2010-02-28</td>\n",
       "      <td>0.7</td>\n",
       "      <td>0.071429</td>\n",
       "      <td>{'ADM': 0, 'IHG': 0, 'IAG': 1, 'MRO': 0, 'WPP'...</td>\n",
       "      <td>4</td>\n",
       "      <td>True</td>\n",
       "    </tr>\n",
       "    <tr>\n",
       "      <th>41</th>\n",
       "      <td>41</td>\n",
       "      <td>2011-05-31</td>\n",
       "      <td>0.7</td>\n",
       "      <td>0.028571</td>\n",
       "      <td>{'ADM': 0, 'AHT': 0, 'AZN': 0, 'GSK': 1, 'CCL'...</td>\n",
       "      <td>1</td>\n",
       "      <td>True</td>\n",
       "    </tr>\n",
       "    <tr>\n",
       "      <th>42</th>\n",
       "      <td>42</td>\n",
       "      <td>2011-10-31</td>\n",
       "      <td>0.7</td>\n",
       "      <td>0.309524</td>\n",
       "      <td>{'ADM': 0, 'AHT': 1, 'CCL': 2, 'PRU': 3, 'RBS'...</td>\n",
       "      <td>9</td>\n",
       "      <td>True</td>\n",
       "    </tr>\n",
       "    <tr>\n",
       "      <th>43</th>\n",
       "      <td>43</td>\n",
       "      <td>2012-03-31</td>\n",
       "      <td>0.7</td>\n",
       "      <td>0.076190</td>\n",
       "      <td>{'ADM': 0, 'AZN': 1, 'CCL': 1, 'CNA': 0, 'CRH'...</td>\n",
       "      <td>3</td>\n",
       "      <td>True</td>\n",
       "    </tr>\n",
       "    <tr>\n",
       "      <th>44</th>\n",
       "      <td>44</td>\n",
       "      <td>2013-01-31</td>\n",
       "      <td>0.7</td>\n",
       "      <td>0.009524</td>\n",
       "      <td>{'ADM': 0, 'III': 1, 'AHT': 0, 'AZN': 0, 'CCL'...</td>\n",
       "      <td>1</td>\n",
       "      <td>True</td>\n",
       "    </tr>\n",
       "    <tr>\n",
       "      <th>45</th>\n",
       "      <td>45</td>\n",
       "      <td>2013-11-30</td>\n",
       "      <td>0.7</td>\n",
       "      <td>0.004762</td>\n",
       "      <td>{'ADM': 0, 'AHT': 0, 'AZN': 0, 'CCL': 0, 'CNA'...</td>\n",
       "      <td>1</td>\n",
       "      <td>True</td>\n",
       "    </tr>\n",
       "    <tr>\n",
       "      <th>46</th>\n",
       "      <td>46</td>\n",
       "      <td>2014-04-30</td>\n",
       "      <td>0.7</td>\n",
       "      <td>0.028571</td>\n",
       "      <td>{'ADM': 0, 'AHT': 0, 'AZN': 0, 'CCL': 0, 'CNA'...</td>\n",
       "      <td>2</td>\n",
       "      <td>True</td>\n",
       "    </tr>\n",
       "    <tr>\n",
       "      <th>47</th>\n",
       "      <td>47</td>\n",
       "      <td>2015-02-28</td>\n",
       "      <td>0.7</td>\n",
       "      <td>0.004762</td>\n",
       "      <td>{'ADM': 0, 'AHT': 0, 'AZN': 0, 'IHG': 0, 'CCL'...</td>\n",
       "      <td>1</td>\n",
       "      <td>True</td>\n",
       "    </tr>\n",
       "    <tr>\n",
       "      <th>48</th>\n",
       "      <td>48</td>\n",
       "      <td>2015-07-31</td>\n",
       "      <td>0.7</td>\n",
       "      <td>0.057143</td>\n",
       "      <td>{'ADM': 0, 'AHT': 0, 'AZN': 0, 'GSK': 1, 'IHG'...</td>\n",
       "      <td>2</td>\n",
       "      <td>True</td>\n",
       "    </tr>\n",
       "    <tr>\n",
       "      <th>49</th>\n",
       "      <td>49</td>\n",
       "      <td>2016-10-31</td>\n",
       "      <td>0.7</td>\n",
       "      <td>0.000000</td>\n",
       "      <td>{'ADM': 0, 'AHT': 0, 'AZN': 0, 'CCL': 0, 'CNA'...</td>\n",
       "      <td>0</td>\n",
       "      <td>True</td>\n",
       "    </tr>\n",
       "    <tr>\n",
       "      <th>50</th>\n",
       "      <td>50</td>\n",
       "      <td>2017-08-31</td>\n",
       "      <td>0.7</td>\n",
       "      <td>0.014286</td>\n",
       "      <td>{'ADM': 0, 'AHT': 0, 'AZN': 0, 'IHG': 0, 'VOD'...</td>\n",
       "      <td>1</td>\n",
       "      <td>True</td>\n",
       "    </tr>\n",
       "  </tbody>\n",
       "</table>\n",
       "</div>"
      ],
      "text/plain": [
       "    Unnamed: 0        date  threshold   density  \\\n",
       "36          36  2008-06-30        0.7  0.057143   \n",
       "37          37  2008-11-30        0.7  0.123810   \n",
       "38          38  2009-04-30        0.7  0.061905   \n",
       "39          39  2009-09-30        0.7  0.057143   \n",
       "40          40  2010-02-28        0.7  0.071429   \n",
       "41          41  2011-05-31        0.7  0.028571   \n",
       "42          42  2011-10-31        0.7  0.309524   \n",
       "43          43  2012-03-31        0.7  0.076190   \n",
       "44          44  2013-01-31        0.7  0.009524   \n",
       "45          45  2013-11-30        0.7  0.004762   \n",
       "46          46  2014-04-30        0.7  0.028571   \n",
       "47          47  2015-02-28        0.7  0.004762   \n",
       "48          48  2015-07-31        0.7  0.057143   \n",
       "49          49  2016-10-31        0.7  0.000000   \n",
       "50          50  2017-08-31        0.7  0.014286   \n",
       "\n",
       "                                             coloring  num_colors  \\\n",
       "36  {'ADM': 0, 'IHG': 0, 'AHT': 1, 'CCL': 2, 'CNA'...           3   \n",
       "37  {'ADM': 0, 'CRH': 1, 'PRU': 2, 'AZN': 1, 'CCL'...           4   \n",
       "38  {'ADM': 0, 'AHT': 0, 'AZN': 0, 'IHG': 0, 'CCL'...           2   \n",
       "39  {'ADM': 0, 'IHG': 0, 'RIO': 1, 'CCL': 1, 'CNA'...           3   \n",
       "40  {'ADM': 0, 'IHG': 0, 'IAG': 1, 'MRO': 0, 'WPP'...           4   \n",
       "41  {'ADM': 0, 'AHT': 0, 'AZN': 0, 'GSK': 1, 'CCL'...           1   \n",
       "42  {'ADM': 0, 'AHT': 1, 'CCL': 2, 'PRU': 3, 'RBS'...           9   \n",
       "43  {'ADM': 0, 'AZN': 1, 'CCL': 1, 'CNA': 0, 'CRH'...           3   \n",
       "44  {'ADM': 0, 'III': 1, 'AHT': 0, 'AZN': 0, 'CCL'...           1   \n",
       "45  {'ADM': 0, 'AHT': 0, 'AZN': 0, 'CCL': 0, 'CNA'...           1   \n",
       "46  {'ADM': 0, 'AHT': 0, 'AZN': 0, 'CCL': 0, 'CNA'...           2   \n",
       "47  {'ADM': 0, 'AHT': 0, 'AZN': 0, 'IHG': 0, 'CCL'...           1   \n",
       "48  {'ADM': 0, 'AHT': 0, 'AZN': 0, 'GSK': 1, 'IHG'...           2   \n",
       "49  {'ADM': 0, 'AHT': 0, 'AZN': 0, 'CCL': 0, 'CNA'...           0   \n",
       "50  {'ADM': 0, 'AHT': 0, 'AZN': 0, 'IHG': 0, 'VOD'...           1   \n",
       "\n",
       "    valid_coloring  \n",
       "36            True  \n",
       "37            True  \n",
       "38            True  \n",
       "39            True  \n",
       "40            True  \n",
       "41            True  \n",
       "42            True  \n",
       "43            True  \n",
       "44            True  \n",
       "45            True  \n",
       "46            True  \n",
       "47            True  \n",
       "48            True  \n",
       "49            True  \n",
       "50            True  "
      ]
     },
     "execution_count": 122,
     "metadata": {},
     "output_type": "execute_result"
    }
   ],
   "source": [
    "quant_res"
   ]
  },
  {
   "cell_type": "code",
   "execution_count": null,
   "metadata": {},
   "outputs": [],
   "source": [
    "fig, ax = plt.subplots(figsize=(15, 10))\n",
    "nx.draw_networkx(G, pos=nx.spring_layout(G), font_size=14, node_color='w', ax = ax)"
   ]
  }
 ],
 "metadata": {
  "kernelspec": {
   "display_name": "dwave_ocean",
   "language": "python",
   "name": "dwave_ocean"
  }
 },
 "nbformat": 4,
 "nbformat_minor": 2
}
