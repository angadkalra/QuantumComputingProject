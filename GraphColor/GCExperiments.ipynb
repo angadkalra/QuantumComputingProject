{
 "cells": [
  {
   "cell_type": "code",
   "execution_count": 27,
   "metadata": {},
   "outputs": [],
   "source": [
    "import sys, os\n",
    "import numpy as np\n",
    "import pandas as pd\n",
    "import matplotlib.pyplot as plt\n",
    "\n",
    "# DWave Credentials\n",
    "dwave_solver = \"DW_2000Q_2_1\"\n",
    "api_key = 'DEV-3142f58be13a0aacd44657b15b8fb9832ba3bdac'\n",
    "\n",
    "from dwave.system.samplers import DWaveSampler\n",
    "from dwave.system.composites import EmbeddingComposite\n",
    "\n",
    "import dwave_networkx as dnx\n",
    "\n",
    "### Use NetworkX graphic package to create a signed network\n",
    "import networkx as nx\n",
    "\n",
    "# Select a D-Wave system and handle mapping from problem graph to sampler graph\n",
    "sampler = EmbeddingComposite(DWaveSampler(solver=dwave_solver, token=api_key))"
   ]
  },
  {
   "cell_type": "code",
   "execution_count": 35,
   "metadata": {},
   "outputs": [],
   "source": [
    "# Import data\n",
    "\n",
    "dataset = 'sectors' # values: 'asset_class','ftse','sectors','sp100'\n",
    "\n",
    "corr_tensor = np.load('../Data/%s/%s_corr.npy' % (dataset, dataset))\n",
    "dates = np.load('../Data/%s/%s_dates.npy' % (dataset, dataset))\n",
    "nodes = np.load('../Data/%s/%s_nodes.npy' % (dataset, dataset))\n",
    "nodes_descr = np.load('../Data/%s/%s_nodes_descr.npy' % (dataset, dataset))\n",
    "\n",
    "num_examples = corr_tensor.shape[0]\n",
    "dim = corr_tensor.shape[1]"
   ]
  },
  {
   "cell_type": "code",
   "execution_count": 29,
   "metadata": {},
   "outputs": [
    {
     "name": "stdout",
     "output_type": "stream",
     "text": [
      "num examples: 120, matrix dim: 11\n"
     ]
    }
   ],
   "source": [
    "print(\"num examples: %d, matrix dim: %d\" % (num_examples, dim))"
   ]
  },
  {
   "cell_type": "code",
   "execution_count": 30,
   "metadata": {
    "code_folding": [
     2,
     35,
     40
    ]
   },
   "outputs": [],
   "source": [
    "# Helper Functions\n",
    "\n",
    "def make_graph(corr_mat, node_labels, graph_type):\n",
    "\n",
    "    G = nx.Graph()\n",
    "    G.add_nodes_from(node_labels)\n",
    "    dim = corr_mat.shape[0]\n",
    "\n",
    "    if not dim == len(node_labels):\n",
    "        raise ValueError('number node labels not = corr matrix dimensions')\n",
    "\n",
    "    if graph_type=='signed':\n",
    "        for i in range(dim):\n",
    "            for j in range(i+1, dim):\n",
    "                if corr_mat[i,j] < 0:\n",
    "                    G.add_edge(node_labels[i], node_labels[j], sign=-1)\n",
    "                elif corr_mat[i,j] > 0:\n",
    "                    G.add_edge(node_labels[i], node_labels[j], sign=1)\n",
    "    \n",
    "    if graph_type=='corr':\n",
    "        for i in range(dim):\n",
    "            for j in range(i+1, dim):\n",
    "                if corr_mat[i,j] != 0.000:\n",
    "                    G.add_edge(node_labels[i], node_labels[j])\n",
    "    \n",
    "    if graph_type=='uncorr':\n",
    "        for i in range(dim):\n",
    "            for j in range(i+1, dim):\n",
    "                if corr_mat[i,j] == 0.000:\n",
    "                    G.add_edge(node_labels[i], node_labels[j])\n",
    "    \n",
    "    density = (2*G.number_of_edges())/(G.number_of_nodes()*(G.number_of_nodes() - 1))\n",
    "                \n",
    "    return G, density\n",
    "\n",
    "def get_max_deg(G):\n",
    "    degree_sequence = sorted([d for n, d in G.degree()], reverse=True)\n",
    "\n",
    "    return max(degree_sequence)\n",
    "\n",
    "def coloring_score(G, coloring):\n",
    "    count = 0\n",
    "    for e in G.edges():\n",
    "        v1, v2 = e\n",
    "        if coloring[v1] == coloring[v2]:\n",
    "            count += 1\n",
    "        \n",
    "        return count/G.number_of_edges()"
   ]
  },
  {
   "cell_type": "code",
   "execution_count": 31,
   "metadata": {},
   "outputs": [],
   "source": [
    "# Test to see if DW comp. is working\n",
    "corr_mat = corr_tensor[int(num_examples/2), :, :].copy()\n",
    "        \n",
    "corr_mat[(corr_mat > -1*0.1) & (corr_mat < 0.1)] = 0\n",
    "G, density = make_graph(corr_mat, nodes, 'corr')\n",
    "\n",
    "coloring = dnx.min_vertex_coloring(G, sampler)\n",
    "num_colors = np.max(list(coloring.values()))"
   ]
  },
  {
   "cell_type": "code",
   "execution_count": 32,
   "metadata": {},
   "outputs": [],
   "source": [
    "assert num_colors > 0 and num_colors <= get_max_deg(G)"
   ]
  },
  {
   "cell_type": "code",
   "execution_count": 33,
   "metadata": {},
   "outputs": [
    {
     "data": {
      "text/plain": [
       "10"
      ]
     },
     "execution_count": 33,
     "metadata": {},
     "output_type": "execute_result"
    }
   ],
   "source": [
    "get_max_deg(G)"
   ]
  },
  {
   "cell_type": "code",
   "execution_count": 34,
   "metadata": {},
   "outputs": [
    {
     "data": {
      "text/plain": [
       "True"
      ]
     },
     "execution_count": 34,
     "metadata": {},
     "output_type": "execute_result"
    }
   ],
   "source": [
    "dnx.is_vertex_coloring(G, coloring)"
   ]
  },
  {
   "cell_type": "code",
   "execution_count": 37,
   "metadata": {
    "code_folding": []
   },
   "outputs": [],
   "source": [
    "# Plot graph density for each threshold. \n",
    "\n",
    "# HAS BUG DON'T RUN\n",
    "\n",
    "# thresh_array = []\n",
    "# density_distr = []\n",
    "\n",
    "# for i in np.arange(0.1, 1, 0.1):\n",
    "#     density_array = []\n",
    "#     for j in range(1, int(num_examples/5)):\n",
    "#         corr_mat = corr_tensor[j*5, :, :]\n",
    "#         corr_mat[(corr_mat > -1*i) & (corr_mat < i)] = 0\n",
    "#         G, density = make_graph(corr_mat, nodes, 'corr')\n",
    "        \n",
    "#         density_array.append(density)\n",
    "    \n",
    "#     density_distr.append(density_array)"
   ]
  },
  {
   "cell_type": "code",
   "execution_count": 10,
   "metadata": {},
   "outputs": [
    {
     "data": {
      "image/png": "[encoded data removed]",
      "text/plain": [
       "<Figure size 432x288 with 1 Axes>"
      ]
     },
     "metadata": {
      "needs_background": "light"
     },
     "output_type": "display_data"
    }
   ],
   "source": [
    "# plt.boxplot(density_distr)\n",
    "# plt.ylabel(\"Graph Density\")\n",
    "# plt.xlabel(\"Correlation Threshold (10^-1)\")\n",
    "# plt.title(\"%s Density vs Threshold\" % (dataset))\n",
    "# plt.show()"
   ]
  },
  {
   "cell_type": "code",
   "execution_count": null,
   "metadata": {
    "scrolled": true
   },
   "outputs": [],
   "source": [
    "# Create graph for each date and calculate best coloring using quantum computer. \n",
    "\n",
    "coloring_array = []\n",
    "valid_coloring_array = []\n",
    "num_colors_array = []\n",
    "date_array = []\n",
    "density_array = []\n",
    "threshold_array = []\n",
    "\n",
    "count = 0\n",
    "for i in np.arange(0.3, 1, 0.1):\n",
    "    for j in range(1, int(num_examples/5)):\n",
    "        \n",
    "        corr_mat = corr_tensor[j*5, :, :].copy()\n",
    "        corr_mat[(corr_mat > -1*i) & (corr_mat < i)] = 0\n",
    "        \n",
    "        G, density = make_graph(corr_mat, nodes, 'corr')\n",
    "        \n",
    "        count += 1\n",
    "        if count % 10 == 0: \n",
    "            print(\"count: %d\" % (count))\n",
    "            \n",
    "        try:\n",
    "            opt_coloring = {}\n",
    "            min_colors = dim\n",
    "            \n",
    "            for k in range(10):\n",
    "                coloring = dnx.min_vertex_coloring(G, sampler)\n",
    "                num_colors = np.max(list(coloring.values())) + 1\n",
    "                valid_coloring = dnx.is_vertex_coloring(G, coloring) coloring\n",
    "                \n",
    "                if valid_coloring and num_colors < min_colors:\n",
    "                    opt_coloring = coloring\n",
    "                    min_colors = num_colors\n",
    "            \n",
    "            if opt_coloring == {}:\n",
    "                raise Exception\n",
    "                \n",
    "        except Exception as err:\n",
    "            print(err)\n",
    "            print(\"Error on matrix %d with threshold %f\" % (j*5, i))\n",
    "        else:\n",
    "            \n",
    "            coloring_array.append(opt_coloring)\n",
    "            num_colors_array.append(min_colors)\n",
    "            valid_coloring_array.append(valid_coloring)\n",
    "            \n",
    "            threshold_array.append(i)\n",
    "            density_array.append(density)\n",
    "            date_array.append(dates[j*5])\n",
    "        "
   ]
  },
  {
   "cell_type": "code",
   "execution_count": 39,
   "metadata": {},
   "outputs": [],
   "source": [
    "assert len(coloring_array) == len(date_array) == len(density_array) == len(threshold_array) == len(num_colors_array)"
   ]
  },
  {
   "cell_type": "code",
   "execution_count": 40,
   "metadata": {},
   "outputs": [
    {
     "data": {
      "text/plain": [
       "100"
      ]
     },
     "execution_count": 40,
     "metadata": {},
     "output_type": "execute_result"
    }
   ],
   "source": [
    "len(date_array)"
   ]
  },
  {
   "cell_type": "code",
   "execution_count": 41,
   "metadata": {},
   "outputs": [],
   "source": [
    "# Create Pandas DataFrame for quantum results\n",
    "pd.DataFrame(data={\"date\": date_array, \"threshold\": threshold_array, \"density\": density_array,\n",
    "                \"coloring\": coloring_array, \"num_colors\": num_colors_array, \n",
    "                \"valid_coloring\": valid_coloring_array}).to_csv(\"grphcolor_quant_%s_res.csv\" % (dataset))"
   ]
  },
  {
   "cell_type": "code",
   "execution_count": 46,
   "metadata": {
    "code_folding": []
   },
   "outputs": [],
   "source": [
    "# Run classical graph coloring algm on the matrices that ran successfully above\n",
    "from networkx.algorithms.coloring import greedy_color\n",
    "\n",
    "coloring_array = []\n",
    "valid_coloring_array = []\n",
    "num_colors_array = []\n",
    "density_array = []\n",
    "\n",
    "for i in range(len(threshold_array)):\n",
    "    \n",
    "    # get threshold and matrix idx \n",
    "    thresh = threshold_array[i]\n",
    "    idx = dates.tolist().index(date_array[i])\n",
    "    \n",
    "    corr_mat = corr_tensor[idx, :, :].copy()\n",
    "    corr_mat[(corr_mat > -1*thresh) & (corr_mat < thresh)] = 0\n",
    "\n",
    "    G, density = make_graph(corr_mat, nodes, 'corr')\n",
    "\n",
    "    try:\n",
    "        coloring = greedy_color(G, strategy='independent_set')\n",
    "        valid_coloring = dnx.is_vertex_coloring(G, coloring)\n",
    "    except Exception as err:\n",
    "        print(\"Error on matrix %d with threshold %f\" % (j*5, i))\n",
    "    else:\n",
    "        num_colors = np.max(list(coloring.values())) + 1\n",
    "\n",
    "        coloring_array.append(coloring)\n",
    "        num_colors_array.append(num_colors)\n",
    "        valid_coloring_array.append(valid_coloring)\n",
    "\n",
    "        density_array.append(density)\n"
   ]
  },
  {
   "cell_type": "code",
   "execution_count": 47,
   "metadata": {},
   "outputs": [],
   "source": [
    "assert len(coloring_array) == len(density_array) ==  len(num_colors_array) == len(valid_coloring_array)"
   ]
  },
  {
   "cell_type": "code",
   "execution_count": 50,
   "metadata": {},
   "outputs": [],
   "source": [
    "# Create Pandas DataFrame for classical results\n",
    "pd.DataFrame(data={\"date\": date_array, \"threshold\": threshold_array, \"density\": density_array,\n",
    "                \"coloring\": coloring_array, \"num_colors\": num_colors_array, \n",
    "                \"valid_coloring\": valid_coloring_array}).to_csv(\"grphcolor_class_%s_res.csv\" % (dataset))"
   ]
  },
  {
   "cell_type": "code",
   "execution_count": 51,
   "metadata": {},
   "outputs": [],
   "source": [
    "# Compare classical vs quantum\n",
    "quant_res_df = pd.read_csv(\"grphcolor_quant_%s_res.csv\" % (dataset))\n",
    "class_res_df = pd.read_csv(\"grphcolor_class_%s_res.csv\" % (dataset))"
   ]
  },
  {
   "cell_type": "code",
   "execution_count": 52,
   "metadata": {},
   "outputs": [],
   "source": [
    "assert quant_res_df[\"date\"].equals(class_res_df[\"date\"])"
   ]
  },
  {
   "cell_type": "code",
   "execution_count": 53,
   "metadata": {},
   "outputs": [],
   "source": [
    "quant_res = quant_res_df.loc[quant_res_df[\"threshold\"] == 0.3].copy()\n",
    "class_res = class_res_df.loc[class_res_df[\"threshold\"] == 0.3].copy()"
   ]
  },
  {
   "cell_type": "code",
   "execution_count": 59,
   "metadata": {},
   "outputs": [
    {
     "data": {
      "text/plain": [
       "[<matplotlib.lines.Line2D at 0x7f3cb40a35f8>]"
      ]
     },
     "execution_count": 59,
     "metadata": {},
     "output_type": "execute_result"
    },
    {
     "data": {
      "image/png": "[encoded data removed]",
      "text/plain": [
       "<Figure size 432x288 with 1 Axes>"
      ]
     },
     "metadata": {
      "needs_background": "light"
     },
     "output_type": "display_data"
    }
   ],
   "source": [
    "import matplotlib.pyplot as plt\n",
    "\n",
    "plt.figure(1)\n",
    "plt.plot(quant_res[\"date\"], quant_res[\"num_colors\"], 'o')\n",
    "plt.plot(class_res[\"date\"], class_res['num_colors'], 'o')"
   ]
  },
  {
   "cell_type": "code",
   "execution_count": 57,
   "metadata": {},
   "outputs": [
    {
     "data": {
      "text/plain": [
       "[<matplotlib.lines.Line2D at 0x7f3cb40fa550>]"
      ]
     },
     "execution_count": 57,
     "metadata": {},
     "output_type": "execute_result"
    },
    {
     "data": {
      "image/png": "[encoded data removed]",
      "text/plain": [
       "<Figure size 432x288 with 1 Axes>"
      ]
     },
     "metadata": {
      "needs_background": "light"
     },
     "output_type": "display_data"
    }
   ],
   "source": [
    "plt.figure(2)\n",
    "plt.plot(quant_res[\"date\"], quant_res[\"density\"], 'r')\n",
    "plt.plot(class_res[\"date\"], class_res[\"density\"], 'b')"
   ]
  },
  {
   "cell_type": "code",
   "execution_count": 56,
   "metadata": {},
   "outputs": [
    {
     "data": {
      "text/html": [
       "<div>\n",
       "<style scoped>\n",
       "    .dataframe tbody tr th:only-of-type {\n",
       "        vertical-align: middle;\n",
       "    }\n",
       "\n",
       "    .dataframe tbody tr th {\n",
       "        vertical-align: top;\n",
       "    }\n",
       "\n",
       "    .dataframe thead th {\n",
       "        text-align: right;\n",
       "    }\n",
       "</style>\n",
       "<table border=\"1\" class=\"dataframe\">\n",
       "  <thead>\n",
       "    <tr style=\"text-align: right;\">\n",
       "      <th></th>\n",
       "      <th>Unnamed: 0</th>\n",
       "      <th>date</th>\n",
       "      <th>threshold</th>\n",
       "      <th>density</th>\n",
       "      <th>coloring</th>\n",
       "      <th>num_colors</th>\n",
       "      <th>valid_coloring</th>\n",
       "    </tr>\n",
       "  </thead>\n",
       "  <tbody>\n",
       "    <tr>\n",
       "      <th>0</th>\n",
       "      <td>0</td>\n",
       "      <td>2008-06-30</td>\n",
       "      <td>0.3</td>\n",
       "      <td>0.890909</td>\n",
       "      <td>{'IYT': 0, 'RWR': 1, 'XLB': 2, 'XLF': 3, 'XLI'...</td>\n",
       "      <td>10</td>\n",
       "      <td>True</td>\n",
       "    </tr>\n",
       "    <tr>\n",
       "      <th>1</th>\n",
       "      <td>1</td>\n",
       "      <td>2009-04-30</td>\n",
       "      <td>0.3</td>\n",
       "      <td>0.909091</td>\n",
       "      <td>{'IYT': 0, 'RWR': 1, 'XLB': 2, 'XLE': 3, 'XLF'...</td>\n",
       "      <td>10</td>\n",
       "      <td>True</td>\n",
       "    </tr>\n",
       "    <tr>\n",
       "      <th>2</th>\n",
       "      <td>2</td>\n",
       "      <td>2011-05-31</td>\n",
       "      <td>0.3</td>\n",
       "      <td>0.927273</td>\n",
       "      <td>{'IYT': 0, 'RWR': 1, 'XLB': 2, 'XLE': 3, 'XLF'...</td>\n",
       "      <td>9</td>\n",
       "      <td>True</td>\n",
       "    </tr>\n",
       "    <tr>\n",
       "      <th>3</th>\n",
       "      <td>3</td>\n",
       "      <td>2012-03-31</td>\n",
       "      <td>0.3</td>\n",
       "      <td>0.909091</td>\n",
       "      <td>{'IYT': 0, 'RWR': 1, 'XLB': 2, 'XLE': 3, 'XLF'...</td>\n",
       "      <td>10</td>\n",
       "      <td>True</td>\n",
       "    </tr>\n",
       "    <tr>\n",
       "      <th>4</th>\n",
       "      <td>4</td>\n",
       "      <td>2014-04-30</td>\n",
       "      <td>0.3</td>\n",
       "      <td>0.854545</td>\n",
       "      <td>{'IYT': 0, 'RWR': 1, 'XLB': 2, 'XLE': 3, 'XLF'...</td>\n",
       "      <td>10</td>\n",
       "      <td>True</td>\n",
       "    </tr>\n",
       "    <tr>\n",
       "      <th>5</th>\n",
       "      <td>5</td>\n",
       "      <td>2015-02-28</td>\n",
       "      <td>0.3</td>\n",
       "      <td>0.890909</td>\n",
       "      <td>{'IYT': 0, 'RWR': 1, 'XLB': 2, 'XLI': 3, 'XLK'...</td>\n",
       "      <td>8</td>\n",
       "      <td>True</td>\n",
       "    </tr>\n",
       "    <tr>\n",
       "      <th>6</th>\n",
       "      <td>6</td>\n",
       "      <td>2016-10-31</td>\n",
       "      <td>0.3</td>\n",
       "      <td>0.654545</td>\n",
       "      <td>{'IYT': 0, 'XLB': 1, 'XLE': 2, 'XLF': 3, 'XLI'...</td>\n",
       "      <td>7</td>\n",
       "      <td>True</td>\n",
       "    </tr>\n",
       "    <tr>\n",
       "      <th>7</th>\n",
       "      <td>7</td>\n",
       "      <td>2017-03-31</td>\n",
       "      <td>0.3</td>\n",
       "      <td>0.745455</td>\n",
       "      <td>{'IYT': 0, 'XLB': 1, 'XLE': 2, 'XLF': 3, 'XLI'...</td>\n",
       "      <td>8</td>\n",
       "      <td>True</td>\n",
       "    </tr>\n",
       "    <tr>\n",
       "      <th>8</th>\n",
       "      <td>8</td>\n",
       "      <td>2017-08-31</td>\n",
       "      <td>0.3</td>\n",
       "      <td>0.727273</td>\n",
       "      <td>{'IYT': 0, 'RWR': 1, 'XLB': 2, 'XLF': 3, 'XLK'...</td>\n",
       "      <td>8</td>\n",
       "      <td>True</td>\n",
       "    </tr>\n",
       "  </tbody>\n",
       "</table>\n",
       "</div>"
      ],
      "text/plain": [
       "   Unnamed: 0        date  threshold   density  \\\n",
       "0           0  2008-06-30        0.3  0.890909   \n",
       "1           1  2009-04-30        0.3  0.909091   \n",
       "2           2  2011-05-31        0.3  0.927273   \n",
       "3           3  2012-03-31        0.3  0.909091   \n",
       "4           4  2014-04-30        0.3  0.854545   \n",
       "5           5  2015-02-28        0.3  0.890909   \n",
       "6           6  2016-10-31        0.3  0.654545   \n",
       "7           7  2017-03-31        0.3  0.745455   \n",
       "8           8  2017-08-31        0.3  0.727273   \n",
       "\n",
       "                                            coloring  num_colors  \\\n",
       "0  {'IYT': 0, 'RWR': 1, 'XLB': 2, 'XLF': 3, 'XLI'...          10   \n",
       "1  {'IYT': 0, 'RWR': 1, 'XLB': 2, 'XLE': 3, 'XLF'...          10   \n",
       "2  {'IYT': 0, 'RWR': 1, 'XLB': 2, 'XLE': 3, 'XLF'...           9   \n",
       "3  {'IYT': 0, 'RWR': 1, 'XLB': 2, 'XLE': 3, 'XLF'...          10   \n",
       "4  {'IYT': 0, 'RWR': 1, 'XLB': 2, 'XLE': 3, 'XLF'...          10   \n",
       "5  {'IYT': 0, 'RWR': 1, 'XLB': 2, 'XLI': 3, 'XLK'...           8   \n",
       "6  {'IYT': 0, 'XLB': 1, 'XLE': 2, 'XLF': 3, 'XLI'...           7   \n",
       "7  {'IYT': 0, 'XLB': 1, 'XLE': 2, 'XLF': 3, 'XLI'...           8   \n",
       "8  {'IYT': 0, 'RWR': 1, 'XLB': 2, 'XLF': 3, 'XLK'...           8   \n",
       "\n",
       "   valid_coloring  \n",
       "0            True  \n",
       "1            True  \n",
       "2            True  \n",
       "3            True  \n",
       "4            True  \n",
       "5            True  \n",
       "6            True  \n",
       "7            True  \n",
       "8            True  "
      ]
     },
     "execution_count": 56,
     "metadata": {},
     "output_type": "execute_result"
    }
   ],
   "source": [
    "quant_res"
   ]
  },
  {
   "cell_type": "code",
   "execution_count": null,
   "metadata": {},
   "outputs": [],
   "source": [
    "fig, ax = plt.subplots(figsize=(15, 10))\n",
    "\n",
    "date = quant_res[\"date\"][42]\n",
    "idx = dates.tolist().index(date)\n",
    "\n",
    "corr_mat = corr_tensor[idx, :, :].copy()\n",
    "corr_mat[(corr_mat > -1*thresh) & (corr_mat < thresh)] = 0\n",
    "G, density = make_graph(corr_mat, nodes, 'corr')\n",
    "\n",
    "nx.draw_networkx(G, pos=nx.spring_layout(G), font_size=14, node_color='w', ax = ax)"
   ]
  },
  {
   "cell_type": "code",
   "execution_count": null,
   "metadata": {},
   "outputs": [],
   "source": []
  }
 ],
 "metadata": {
  "kernelspec": {
   "display_name": "dwave_ocean",
   "language": "python",
   "name": "dwave_ocean"
  },
  "language_info": {
   "codemirror_mode": {
    "name": "ipython",
    "version": 3
   },
   "file_extension": ".py",
   "mimetype": "text/x-python",
   "name": "python",
   "nbconvert_exporter": "python",
   "pygments_lexer": "ipython3",
   "version": "3.6.6"
  }
 },
 "nbformat": 4,
 "nbformat_minor": 2
}
