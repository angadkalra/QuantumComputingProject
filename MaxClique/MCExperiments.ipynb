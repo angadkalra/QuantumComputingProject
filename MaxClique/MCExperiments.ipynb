{
 "cells": [
  {
   "cell_type": "code",
   "execution_count": 1,
   "metadata": {},
   "outputs": [],
   "source": [
    "import sys, os\n",
    "import numpy as np\n",
    "import pandas as pd\n",
    "import matplotlib.pyplot as plt\n",
    "\n",
    "# DWave Credentials\n",
    "dwave_solver = \"DW_2000Q_2_1\"\n",
    "api_key = 'DEV-3142f58be13a0aacd44657b15b8fb9832ba3bdac'\n",
    "\n",
    "from dwave.system.samplers import DWaveSampler\n",
    "from dwave.system.composites import EmbeddingComposite\n",
    "\n",
    "import dwave_networkx as dnx\n",
    "\n",
    "### Use NetworkX graphic package to create a signed network\n",
    "import networkx as nx\n",
    "\n",
    "# Select a D-Wave system and handle mapping from problem graph to sampler graph\n",
    "sampler = EmbeddingComposite(DWaveSampler(solver=dwave_solver, token=api_key))"
   ]
  },
  {
   "cell_type": "code",
   "execution_count": 17,
   "metadata": {},
   "outputs": [],
   "source": [
    "# Import data\n",
    "\n",
    "dataset = 'ftse' # values: 'asset_class','ftse','sectors','sp100'\n",
    "\n",
    "corr_tensor = np.load('../Data/%s/%s_corr.npy' % (dataset, dataset))\n",
    "dates = np.load('../Data/%s/%s_dates.npy' % (dataset, dataset))\n",
    "nodes = np.load('../Data/%s/%s_nodes.npy' % (dataset, dataset))\n",
    "nodes_descr = np.load('../Data/%s/%s_nodes_descr.npy' % (dataset, dataset))\n",
    "\n",
    "num_examples = corr_tensor.shape[0]\n",
    "dim = corr_tensor.shape[1]"
   ]
  },
  {
   "cell_type": "code",
   "execution_count": 18,
   "metadata": {},
   "outputs": [
    {
     "name": "stdout",
     "output_type": "stream",
     "text": [
      "num examples: 120, matrix dim: 21\n"
     ]
    }
   ],
   "source": [
    "print(\"num examples: %d, matrix dim: %d\" % (num_examples, dim))"
   ]
  },
  {
   "cell_type": "code",
   "execution_count": 19,
   "metadata": {
    "code_folding": [
     2,
     35,
     40
    ]
   },
   "outputs": [],
   "source": [
    "# Helper Functions\n",
    "\n",
    "def make_graph(corr_mat, node_labels, graph_type):\n",
    "\n",
    "    G = nx.Graph()\n",
    "    G.add_nodes_from(node_labels)\n",
    "    dim = corr_mat.shape[0]\n",
    "\n",
    "    if not dim == len(node_labels):\n",
    "        raise ValueError('number node labels not = corr matrix dimensions')\n",
    "\n",
    "    if graph_type=='signed':\n",
    "        for i in range(dim):\n",
    "            for j in range(i+1, dim):\n",
    "                if corr_mat[i,j] < 0:\n",
    "                    G.add_edge(node_labels[i], node_labels[j], sign=-1)\n",
    "                elif corr_mat[i,j] > 0:\n",
    "                    G.add_edge(node_labels[i], node_labels[j], sign=1)\n",
    "    \n",
    "    if graph_type=='corr':\n",
    "        for i in range(dim):\n",
    "            for j in range(i+1, dim):\n",
    "                if corr_mat[i,j] != 0.000:\n",
    "                    G.add_edge(node_labels[i], node_labels[j])\n",
    "    \n",
    "    if graph_type=='uncorr':\n",
    "        for i in range(dim):\n",
    "            for j in range(i+1, dim):\n",
    "                if corr_mat[i,j] == 0.000:\n",
    "                    G.add_edge(node_labels[i], node_labels[j])\n",
    "    \n",
    "    density = (2*G.number_of_edges())/(G.number_of_nodes()*(G.number_of_nodes() - 1))\n",
    "                \n",
    "    return G, density\n",
    "\n",
    "def get_max_deg(G):\n",
    "    degree_sequence = sorted([d for n, d in G.degree()], reverse=True)\n",
    "\n",
    "    return max(degree_sequence)\n",
    "\n",
    "def coloring_score(G, coloring):\n",
    "    count = 0\n",
    "    for e in G.edges():\n",
    "        v1, v2 = e\n",
    "        if coloring[v1] == coloring[v2]:\n",
    "            count += 1\n",
    "        \n",
    "        return count/G.number_of_edges()"
   ]
  },
  {
   "cell_type": "code",
   "execution_count": 20,
   "metadata": {},
   "outputs": [],
   "source": [
    "# Test to see if DW comp. is working\n",
    "corr_mat = corr_tensor[int(num_examples/2), :, :]\n",
    "        \n",
    "corr_mat[(corr_mat > -1*0.1) & (corr_mat < 0.1)] = 0\n",
    "G, density = make_graph(corr_mat, nodes, 'corr')\n",
    "\n",
    "coloring = dnx.min_vertex_coloring(G, sampler)\n",
    "num_colors = np.max(list(coloring.values()))"
   ]
  },
  {
   "cell_type": "code",
   "execution_count": 6,
   "metadata": {},
   "outputs": [],
   "source": [
    "assert num_colors > 0 and num_colors < get_max_deg(G)"
   ]
  },
  {
   "cell_type": "code",
   "execution_count": 7,
   "metadata": {},
   "outputs": [
    {
     "data": {
      "text/plain": [
       "True"
      ]
     },
     "execution_count": 7,
     "metadata": {},
     "output_type": "execute_result"
    }
   ],
   "source": [
    "dnx.is_vertex_coloring(G, coloring)"
   ]
  },
  {
   "cell_type": "code",
   "execution_count": 8,
   "metadata": {},
   "outputs": [
    {
     "data": {
      "text/plain": [
       "0.0"
      ]
     },
     "execution_count": 8,
     "metadata": {},
     "output_type": "execute_result"
    }
   ],
   "source": [
    "coloring_score(G, coloring)"
   ]
  },
  {
   "cell_type": "code",
   "execution_count": 9,
   "metadata": {},
   "outputs": [],
   "source": [
    "# Plot graph density for each threshold. \n",
    "thresh_array = []\n",
    "density_distr = []\n",
    "\n",
    "for i in np.arange(0.1, 1, 0.1):\n",
    "    density_array = []\n",
    "    for j in range(1, int(num_examples/5)):\n",
    "        corr_mat = corr_tensor[j*5, :, :]\n",
    "        corr_mat[(corr_mat > -1*i) & (corr_mat < i)] = 0\n",
    "        G, density = make_graph(corr_mat, nodes, 'corr')\n",
    "        \n",
    "        density_array.append(density)\n",
    "    \n",
    "    density_distr.append(density_array)"
   ]
  },
  {
   "cell_type": "code",
   "execution_count": 10,
   "metadata": {},
   "outputs": [
    {
     "data": {
      "image/png": "[encoded data removed]",
      "text/plain": [
       "<Figure size 432x288 with 1 Axes>"
      ]
     },
     "metadata": {
      "needs_background": "light"
     },
     "output_type": "display_data"
    }
   ],
   "source": [
    "plt.boxplot(density_distr)\n",
    "plt.ylabel(\"Graph Density\")\n",
    "plt.xlabel(\"Correlation Threshold (10^-1)\")\n",
    "plt.title(\"%s Density vs Threshold\" % (dataset))\n",
    "plt.show()"
   ]
  },
  {
   "cell_type": "code",
   "execution_count": 24,
   "metadata": {},
   "outputs": [
    {
     "name": "stdout",
     "output_type": "stream",
     "text": [
      "No embedding found for threshold 0.400000 and matrix 5\n",
      "No embedding found for threshold 0.400000 and matrix 20\n",
      "No embedding found for threshold 0.400000 and matrix 25\n"
     ]
    },
    {
     "ename": "KeyError",
     "evalue": "'WPP'",
     "output_type": "error",
     "traceback": [
      "\u001b[0;31m---------------------------------------------------------------------------\u001b[0m",
      "\u001b[0;31mKeyError\u001b[0m                                  Traceback (most recent call last)",
      "\u001b[0;32m<ipython-input-24-575b704df4c4>\u001b[0m in \u001b[0;36m<module>\u001b[0;34m\u001b[0m\n\u001b[1;32m     20\u001b[0m             \u001b[0mcoloring\u001b[0m \u001b[0;34m=\u001b[0m \u001b[0mdnx\u001b[0m\u001b[0;34m.\u001b[0m\u001b[0mmin_vertex_coloring\u001b[0m\u001b[0;34m(\u001b[0m\u001b[0mG\u001b[0m\u001b[0;34m,\u001b[0m \u001b[0msampler\u001b[0m\u001b[0;34m)\u001b[0m\u001b[0;34m\u001b[0m\u001b[0;34m\u001b[0m\u001b[0m\n\u001b[1;32m     21\u001b[0m             \u001b[0mnum_colors\u001b[0m \u001b[0;34m=\u001b[0m \u001b[0mnp\u001b[0m\u001b[0;34m.\u001b[0m\u001b[0mmax\u001b[0m\u001b[0;34m(\u001b[0m\u001b[0mlist\u001b[0m\u001b[0;34m(\u001b[0m\u001b[0mcoloring\u001b[0m\u001b[0;34m.\u001b[0m\u001b[0mvalues\u001b[0m\u001b[0;34m(\u001b[0m\u001b[0;34m)\u001b[0m\u001b[0;34m)\u001b[0m\u001b[0;34m)\u001b[0m\u001b[0;34m\u001b[0m\u001b[0;34m\u001b[0m\u001b[0m\n\u001b[0;32m---> 22\u001b[0;31m             \u001b[0mvalid_coloring\u001b[0m \u001b[0;34m=\u001b[0m \u001b[0mdnx\u001b[0m\u001b[0;34m.\u001b[0m\u001b[0mis_vertex_coloring\u001b[0m\u001b[0;34m(\u001b[0m\u001b[0mG\u001b[0m\u001b[0;34m,\u001b[0m \u001b[0mcoloring\u001b[0m\u001b[0;34m)\u001b[0m\u001b[0;34m\u001b[0m\u001b[0;34m\u001b[0m\u001b[0m\n\u001b[0m\u001b[1;32m     23\u001b[0m         \u001b[0;32mexcept\u001b[0m \u001b[0;34m(\u001b[0m\u001b[0mValueError\u001b[0m\u001b[0;34m,\u001b[0m \u001b[0mRuntimeError\u001b[0m\u001b[0;34m)\u001b[0m \u001b[0;32mas\u001b[0m \u001b[0me\u001b[0m\u001b[0;34m:\u001b[0m\u001b[0;34m\u001b[0m\u001b[0;34m\u001b[0m\u001b[0m\n\u001b[1;32m     24\u001b[0m             \u001b[0mprint\u001b[0m\u001b[0;34m(\u001b[0m\u001b[0;34m\"No embedding found for threshold %f and matrix %d\"\u001b[0m \u001b[0;34m%\u001b[0m \u001b[0;34m(\u001b[0m\u001b[0mi\u001b[0m\u001b[0;34m,\u001b[0m \u001b[0mj\u001b[0m\u001b[0;34m*\u001b[0m\u001b[0;36m5\u001b[0m\u001b[0;34m)\u001b[0m\u001b[0;34m)\u001b[0m\u001b[0;34m\u001b[0m\u001b[0;34m\u001b[0m\u001b[0m\n",
      "\u001b[0;32m~/Projects/quantcomp/ocean/lib/python3.6/site-packages/dwave_networkx/algorithms/coloring.py\u001b[0m in \u001b[0;36mis_vertex_coloring\u001b[0;34m(G, coloring)\u001b[0m\n\u001b[1;32m    398\u001b[0m \u001b[0;34m\u001b[0m\u001b[0m\n\u001b[1;32m    399\u001b[0m    \"\"\"\n\u001b[0;32m--> 400\u001b[0;31m     \u001b[0;32mreturn\u001b[0m \u001b[0mall\u001b[0m\u001b[0;34m(\u001b[0m\u001b[0mcoloring\u001b[0m\u001b[0;34m[\u001b[0m\u001b[0mu\u001b[0m\u001b[0;34m]\u001b[0m \u001b[0;34m!=\u001b[0m \u001b[0mcoloring\u001b[0m\u001b[0;34m[\u001b[0m\u001b[0mv\u001b[0m\u001b[0;34m]\u001b[0m \u001b[0;32mfor\u001b[0m \u001b[0mu\u001b[0m\u001b[0;34m,\u001b[0m \u001b[0mv\u001b[0m \u001b[0;32min\u001b[0m \u001b[0mG\u001b[0m\u001b[0;34m.\u001b[0m\u001b[0medges\u001b[0m\u001b[0;34m)\u001b[0m\u001b[0;34m\u001b[0m\u001b[0;34m\u001b[0m\u001b[0m\n\u001b[0m",
      "\u001b[0;32m~/Projects/quantcomp/ocean/lib/python3.6/site-packages/dwave_networkx/algorithms/coloring.py\u001b[0m in \u001b[0;36m<genexpr>\u001b[0;34m(.0)\u001b[0m\n\u001b[1;32m    398\u001b[0m \u001b[0;34m\u001b[0m\u001b[0m\n\u001b[1;32m    399\u001b[0m    \"\"\"\n\u001b[0;32m--> 400\u001b[0;31m     \u001b[0;32mreturn\u001b[0m \u001b[0mall\u001b[0m\u001b[0;34m(\u001b[0m\u001b[0mcoloring\u001b[0m\u001b[0;34m[\u001b[0m\u001b[0mu\u001b[0m\u001b[0;34m]\u001b[0m \u001b[0;34m!=\u001b[0m \u001b[0mcoloring\u001b[0m\u001b[0;34m[\u001b[0m\u001b[0mv\u001b[0m\u001b[0;34m]\u001b[0m \u001b[0;32mfor\u001b[0m \u001b[0mu\u001b[0m\u001b[0;34m,\u001b[0m \u001b[0mv\u001b[0m \u001b[0;32min\u001b[0m \u001b[0mG\u001b[0m\u001b[0;34m.\u001b[0m\u001b[0medges\u001b[0m\u001b[0;34m)\u001b[0m\u001b[0;34m\u001b[0m\u001b[0;34m\u001b[0m\u001b[0m\n\u001b[0m",
      "\u001b[0;31mKeyError\u001b[0m: 'WPP'"
     ]
    }
   ],
   "source": [
    "# Create graph for each month and calculate best coloring. \n",
    "\n",
    "coloring_array = []\n",
    "valid_coloring_array = []\n",
    "num_colors_array = []\n",
    "date_array = []\n",
    "density_array = []\n",
    "threshold_array = []\n",
    "\n",
    "count = 0\n",
    "for i in np.arange(0.4, 0.8, 0.1):\n",
    "    for j in range(1, int(num_examples/5)):\n",
    "        \n",
    "        corr_mat = corr_tensor[j*5, :, :]\n",
    "        corr_mat[(corr_mat > -1*i) & (corr_mat < i)] = 0\n",
    "        \n",
    "        G, density = make_graph(corr_mat, nodes, 'corr')\n",
    "        \n",
    "        count += 1\n",
    "        if count % 10 == 0: print(\"count: %d\" % (count))\n",
    "        \n",
    "        try:\n",
    "            coloring = dnx.min_vertex_coloring(G, sampler)\n",
    "            num_colors = np.max(list(coloring.values()))\n",
    "            valid_coloring = dnx.is_vertex_coloring(G, coloring)\n",
    "        except Exception as e:\n",
    "            print(e)\n",
    "            print(\"No embedding found for threshold %f and matrix %d\" % (i, j*5))\n",
    "        else:\n",
    "            num_colors_array.append(num_colors)\n",
    "            coloring_array.append(coloring)\n",
    "            valid_coloring_array.append(valid_coloring)\n",
    "\n",
    "            threshold_array.append(i)\n",
    "            density_array.append(density)\n",
    "            date_array.append(dates[j*5])"
   ]
  },
  {
   "cell_type": "code",
   "execution_count": 92,
   "metadata": {},
   "outputs": [],
   "source": [
    "assert len(coloring_array) == len(date_array) == len(density_array) == len(threshold_array) == len(num_colors_array)"
   ]
  },
  {
   "cell_type": "code",
   "execution_count": 30,
   "metadata": {},
   "outputs": [
    {
     "data": {
      "text/plain": [
       "0"
      ]
     },
     "execution_count": 30,
     "metadata": {},
     "output_type": "execute_result"
    }
   ],
   "source": [
    "len(coloring_array)"
   ]
  },
  {
   "cell_type": "code",
   "execution_count": 94,
   "metadata": {},
   "outputs": [],
   "source": [
    "# Create Pandas DataFrame for results\n",
    "pd.DataFrame(data={\"date\": date_array, \"threshold\": threshold_array, \"density\": density_array,\n",
    "                \"coloring\": coloring_array, \"num_colors\": num_colors_array, \n",
    "                \"valid_coloring\": valid_coloring_array}).to_csv(\"grphcolor_%s_res.csv\" % (dataset))"
   ]
  },
  {
   "cell_type": "code",
   "execution_count": null,
   "metadata": {},
   "outputs": [],
   "source": []
  }
 ],
 "metadata": {
  "kernelspec": {
   "display_name": "dwave_ocean",
   "language": "python",
   "name": "dwave_ocean"
  },
  "language_info": {
   "codemirror_mode": {
    "name": "ipython",
    "version": 3
   },
   "file_extension": ".py",
   "mimetype": "text/x-python",
   "name": "python",
   "nbconvert_exporter": "python",
   "pygments_lexer": "ipython3",
   "version": "3.6.6"
  }
 },
 "nbformat": 4,
 "nbformat_minor": 2
}
